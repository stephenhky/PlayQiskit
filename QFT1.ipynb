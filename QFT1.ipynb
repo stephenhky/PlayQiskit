{
 "cells": [
  {
   "cell_type": "code",
   "execution_count": 1,
   "metadata": {},
   "outputs": [],
   "source": [
    "import numpy as np\n",
    "from qiskit import QuantumCircuit, QuantumRegister, ClassicalRegister\n",
    "from qiskit import Aer, BasicAer, transpile\n",
    "from math import pi"
   ]
  },
  {
   "cell_type": "code",
   "execution_count": 2,
   "metadata": {},
   "outputs": [],
   "source": [
    "def qft_gate(nbdigits):\n",
    "    qr = QuantumRegister(nbdigits, 'qr')\n",
    "    circuit = QuantumCircuit(qr)\n",
    "    for i in range(nbdigits):\n",
    "        circuit.h(qr[i])\n",
    "        for j in range(i+1, nbdigits):\n",
    "            circuit.cp(2*pi/2**(j-i+1), j, i)\n",
    "    for i in range(nbdigits // 2):\n",
    "        circuit.swap(i, nbdigits-i-1)\n",
    "    return circuit.to_gate()"
   ]
  },
  {
   "cell_type": "code",
   "execution_count": 3,
   "metadata": {},
   "outputs": [],
   "source": [
    "nbdigits = 2"
   ]
  },
  {
   "cell_type": "code",
   "execution_count": 4,
   "metadata": {},
   "outputs": [
    {
     "data": {
      "text/html": [
       "<pre style=\"word-wrap: normal;white-space: pre;background: #fff0;line-height: 1.1;font-family: &quot;Courier New&quot;,Courier,monospace\">        ┌──────────────────────┐┌─────────────┐ ░ ┌─┐   \n",
       "   q_0: ┤0                     ├┤0            ├─░─┤M├───\n",
       "        │  Initialize(0,0,0,1) ││  circuit-79 │ ░ └╥┘┌─┐\n",
       "   q_1: ┤1                     ├┤1            ├─░──╫─┤M├\n",
       "        └──────────────────────┘└─────────────┘ ░  ║ └╥┘\n",
       "   c: 2/═══════════════════════════════════════════╬══╬═\n",
       "                                                   ║  ║ \n",
       "meas: 2/═══════════════════════════════════════════╩══╩═\n",
       "                                                   0  1 </pre>"
      ],
      "text/plain": [
       "        ┌──────────────────────┐┌─────────────┐ ░ ┌─┐   \n",
       "   q_0: ┤0                     ├┤0            ├─░─┤M├───\n",
       "        │  Initialize(0,0,0,1) ││  circuit-79 │ ░ └╥┘┌─┐\n",
       "   q_1: ┤1                     ├┤1            ├─░──╫─┤M├\n",
       "        └──────────────────────┘└─────────────┘ ░  ║ └╥┘\n",
       "   c: 2/═══════════════════════════════════════════╬══╬═\n",
       "                                                   ║  ║ \n",
       "meas: 2/═══════════════════════════════════════════╩══╩═\n",
       "                                                   0  1 "
      ]
     },
     "execution_count": 4,
     "metadata": {},
     "output_type": "execute_result"
    }
   ],
   "source": [
    "circuit1 = QuantumCircuit(nbdigits, nbdigits)\n",
    "circuit1.initialize([0, 0, 0, 1])\n",
    "circuit1.append(qft_gate(nbdigits), list(range(nbdigits)))\n",
    "circuit1.measure_all()\n",
    "circuit1.draw()"
   ]
  },
  {
   "cell_type": "code",
   "execution_count": 5,
   "metadata": {},
   "outputs": [
    {
     "data": {
      "text/html": [
       "<pre style=\"word-wrap: normal;white-space: pre;background: #fff0;line-height: 1.1;font-family: &quot;Courier New&quot;,Courier,monospace\">             ┌─────────────────────────────┐┌───┐                  ░ ┌─┐   \n",
       "   q_0: ─|0>─┤0                            ├┤ H ├─■─────────────X──░─┤M├───\n",
       "             │  State Preparation(0,0,0,1) │└───┘ │P(π/2) ┌───┐ │  ░ └╥┘┌─┐\n",
       "   q_1: ─|0>─┤1                            ├──────■───────┤ H ├─X──░──╫─┤M├\n",
       "             └─────────────────────────────┘              └───┘    ░  ║ └╥┘\n",
       "   c: 2/══════════════════════════════════════════════════════════════╬══╬═\n",
       "                                                                      ║  ║ \n",
       "meas: 2/══════════════════════════════════════════════════════════════╩══╩═\n",
       "                                                                      0  1 </pre>"
      ],
      "text/plain": [
       "             ┌─────────────────────────────┐┌───┐                  ░ ┌─┐   \n",
       "   q_0: ─|0>─┤0                            ├┤ H ├─■─────────────X──░─┤M├───\n",
       "             │  State Preparation(0,0,0,1) │└───┘ │P(π/2) ┌───┐ │  ░ └╥┘┌─┐\n",
       "   q_1: ─|0>─┤1                            ├──────■───────┤ H ├─X──░──╫─┤M├\n",
       "             └─────────────────────────────┘              └───┘    ░  ║ └╥┘\n",
       "   c: 2/══════════════════════════════════════════════════════════════╬══╬═\n",
       "                                                                      ║  ║ \n",
       "meas: 2/══════════════════════════════════════════════════════════════╩══╩═\n",
       "                                                                      0  1 "
      ]
     },
     "execution_count": 5,
     "metadata": {},
     "output_type": "execute_result"
    }
   ],
   "source": [
    "circuit1.decompose().draw()"
   ]
  },
  {
   "cell_type": "code",
   "execution_count": 6,
   "metadata": {},
   "outputs": [
    {
     "name": "stdout",
     "output_type": "stream",
     "text": [
      "{'11 00': 234, '01 00': 265, '00 00': 255, '10 00': 246}\n"
     ]
    }
   ],
   "source": [
    "backend = Aer.get_backend('aer_simulator')\n",
    "tqc = transpile(circuit1, backend)\n",
    "job = backend.run(tqc, shots=1000)\n",
    "result = job.result()\n",
    "counts = result.get_counts()\n",
    "print(counts)"
   ]
  },
  {
   "cell_type": "code",
   "execution_count": 7,
   "metadata": {},
   "outputs": [
    {
     "data": {
      "image/png": "[encoded data removed]",
      "text/plain": [
       "<Figure size 504x360 with 1 Axes>"
      ]
     },
     "execution_count": 7,
     "metadata": {},
     "output_type": "execute_result"
    }
   ],
   "source": [
    "from qiskit.visualization import plot_histogram\n",
    "\n",
    "plot_histogram(counts)"
   ]
  },
  {
   "cell_type": "code",
   "execution_count": 8,
   "metadata": {},
   "outputs": [
    {
     "data": {
      "text/html": [
       "<pre style=\"word-wrap: normal;white-space: pre;background: #fff0;line-height: 1.1;font-family: &quot;Courier New&quot;,Courier,monospace\">     ┌──────────────────────┐┌──────────────┐\n",
       "q_0: ┤0                     ├┤0             ├\n",
       "     │  Initialize(0,0,0,1) ││  circuit-106 │\n",
       "q_1: ┤1                     ├┤1             ├\n",
       "     └──────────────────────┘└──────────────┘</pre>"
      ],
      "text/plain": [
       "     ┌──────────────────────┐┌──────────────┐\n",
       "q_0: ┤0                     ├┤0             ├\n",
       "     │  Initialize(0,0,0,1) ││  circuit-106 │\n",
       "q_1: ┤1                     ├┤1             ├\n",
       "     └──────────────────────┘└──────────────┘"
      ]
     },
     "execution_count": 8,
     "metadata": {},
     "output_type": "execute_result"
    }
   ],
   "source": [
    "circuit2 = QuantumCircuit(nbdigits)\n",
    "circuit2.initialize([0, 0, 0, 1])\n",
    "circuit2.append(qft_gate(nbdigits), list(range(nbdigits)))\n",
    "circuit2.draw()"
   ]
  },
  {
   "cell_type": "code",
   "execution_count": 9,
   "metadata": {},
   "outputs": [
    {
     "data": {
      "text/plain": [
       "array([ 5.00000000e-01-6.123234e-17j, -5.00000000e-01+6.123234e-17j,\n",
       "       -1.48373104e-16-5.000000e-01j,  2.09605444e-16+5.000000e-01j])"
      ]
     },
     "execution_count": 9,
     "metadata": {},
     "output_type": "execute_result"
    }
   ],
   "source": [
    "backend = BasicAer.get_backend('statevector_simulator')\n",
    "tqc2 = transpile(circuit2, backend)\n",
    "job = backend.run(tqc2)\n",
    "result = job.result()\n",
    "statevector = result.get_statevector(circuit2)\n",
    "statevector"
   ]
  },
  {
   "cell_type": "code",
   "execution_count": null,
   "metadata": {},
   "outputs": [],
   "source": []
  }
 ],
 "metadata": {
  "kernelspec": {
   "display_name": "Python 3.8.10 ('qiskit')",
   "language": "python",
   "name": "python3"
  },
  "language_info": {
   "codemirror_mode": {
    "name": "ipython",
    "version": 3
   },
   "file_extension": ".py",
   "mimetype": "text/x-python",
   "name": "python",
   "nbconvert_exporter": "python",
   "pygments_lexer": "ipython3",
   "version": "3.8.10"
  },
  "orig_nbformat": 4,
  "vscode": {
   "interpreter": {
    "hash": "bf24669ddeaa442077ed150bdef2bee011a3761942402a8b77eecd97dd5d3377"
   }
  }
 },
 "nbformat": 4,
 "nbformat_minor": 2
}
