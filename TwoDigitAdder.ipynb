{
 "cells": [
  {
   "cell_type": "code",
   "execution_count": 1,
   "metadata": {},
   "outputs": [],
   "source": [
    "from qiskit import QuantumCircuit"
   ]
  },
  {
   "cell_type": "code",
   "execution_count": 30,
   "metadata": {},
   "outputs": [],
   "source": [
    "num1 = '00'\n",
    "num2 = '01'"
   ]
  },
  {
   "cell_type": "code",
   "execution_count": 31,
   "metadata": {},
   "outputs": [
    {
     "data": {
      "text/html": [
       "<pre style=\"word-wrap: normal;white-space: pre;background: #fff0;line-height: 1.1;font-family: &quot;Courier New&quot;,Courier,monospace\">                               \n",
       "q_0: ───────■─────────■────────\n",
       "     ┌───┐  │         │        \n",
       "q_1: ┤ X ├──┼────■────■────────\n",
       "     └───┘┌─┴─┐┌─┴─┐  │  ┌─┐   \n",
       "q_2: ─────┤ X ├┤ X ├──┼──┤M├───\n",
       "          └───┘└───┘┌─┴─┐└╥┘┌─┐\n",
       "q_3: ───────────────┤ X ├─╫─┤M├\n",
       "                    └───┘ ║ └╥┘\n",
       "c: 2/═════════════════════╩══╩═\n",
       "                          0  1 </pre>"
      ],
      "text/plain": [
       "                               \n",
       "q_0: ───────■─────────■────────\n",
       "     ┌───┐  │         │        \n",
       "q_1: ┤ X ├──┼────■────■────────\n",
       "     └───┘┌─┴─┐┌─┴─┐  │  ┌─┐   \n",
       "q_2: ─────┤ X ├┤ X ├──┼──┤M├───\n",
       "          └───┘└───┘┌─┴─┐└╥┘┌─┐\n",
       "q_3: ───────────────┤ X ├─╫─┤M├\n",
       "                    └───┘ ║ └╥┘\n",
       "c: 2/═════════════════════╩══╩═\n",
       "                          0  1 "
      ]
     },
     "execution_count": 31,
     "metadata": {},
     "output_type": "execute_result"
    }
   ],
   "source": [
    "qc = QuantumCircuit(4, 2)\n",
    "\n",
    "if num1[1] == '1':\n",
    "    qc.x(0)\n",
    "if num1[0] == '1':\n",
    "    qc.x(2)\n",
    "if num2[1] == '1':\n",
    "    qc.x(1)\n",
    "if num2[0] == '1':\n",
    "    qc.x(3)\n",
    "    \n",
    "qc.cx(0, 2)\n",
    "qc.cx(1, 2)\n",
    "qc.ccx(0, 1, 3)\n",
    "\n",
    "qc.measure(2, 0)\n",
    "qc.measure(3, 1)\n",
    "\n",
    "qc.draw()"
   ]
  },
  {
   "cell_type": "code",
   "execution_count": 32,
   "metadata": {},
   "outputs": [],
   "source": [
    "from qiskit.providers.aer import AerSimulator"
   ]
  },
  {
   "cell_type": "code",
   "execution_count": 33,
   "metadata": {},
   "outputs": [],
   "source": [
    "sim = AerSimulator()"
   ]
  },
  {
   "cell_type": "code",
   "execution_count": 34,
   "metadata": {},
   "outputs": [
    {
     "data": {
      "text/plain": [
       "{'01': 1024}"
      ]
     },
     "execution_count": 34,
     "metadata": {},
     "output_type": "execute_result"
    }
   ],
   "source": [
    "job = sim.run(qc)\n",
    "result = job.result()\n",
    "result.get_counts()"
   ]
  },
  {
   "cell_type": "code",
   "execution_count": null,
   "metadata": {},
   "outputs": [],
   "source": []
  }
 ],
 "metadata": {
  "kernelspec": {
   "display_name": "Python 3.8.10 ('qiskit')",
   "language": "python",
   "name": "python3"
  },
  "language_info": {
   "codemirror_mode": {
    "name": "ipython",
    "version": 3
   },
   "file_extension": ".py",
   "mimetype": "text/x-python",
   "name": "python",
   "nbconvert_exporter": "python",
   "pygments_lexer": "ipython3",
   "version": "3.8.10"
  },
  "orig_nbformat": 4,
  "vscode": {
   "interpreter": {
    "hash": "bf24669ddeaa442077ed150bdef2bee011a3761942402a8b77eecd97dd5d3377"
   }
  }
 },
 "nbformat": 4,
 "nbformat_minor": 2
}
