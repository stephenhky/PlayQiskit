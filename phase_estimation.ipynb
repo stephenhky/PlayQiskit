{
 "metadata": {
  "language_info": {
   "codemirror_mode": {
    "name": "ipython",
    "version": 3
   },
   "file_extension": ".py",
   "mimetype": "text/x-python",
   "name": "python",
   "nbconvert_exporter": "python",
   "pygments_lexer": "ipython3",
   "version": "3.8.10"
  },
  "orig_nbformat": 2,
  "kernelspec": {
   "name": "python3810jvsc74a57bd000c6afd182054d0072e7f6fdb7b39f9c26cb6199a23fd0e48341d0750a09dc42",
   "display_name": "Python 3.8.10 64-bit ('qiskit': conda)"
  },
  "metadata": {
   "interpreter": {
    "hash": "00c6afd182054d0072e7f6fdb7b39f9c26cb6199a23fd0e48341d0750a09dc42"
   }
  }
 },
 "nbformat": 4,
 "nbformat_minor": 2,
 "cells": [
  {
   "cell_type": "code",
   "execution_count": 1,
   "metadata": {},
   "outputs": [],
   "source": [
    "import numpy as np\n",
    "from qiskit import QuantumCircuit, execute, Aer"
   ]
  },
  {
   "cell_type": "code",
   "execution_count": 2,
   "metadata": {},
   "outputs": [],
   "source": [
    "phi = 0.5 + 0.5*0.5"
   ]
  },
  {
   "cell_type": "code",
   "execution_count": 3,
   "metadata": {},
   "outputs": [
    {
     "output_type": "execute_result",
     "data": {
      "text/plain": [
       "<qiskit.circuit.instructionset.InstructionSet at 0x7fc3c094f4c0>"
      ]
     },
     "metadata": {},
     "execution_count": 3
    }
   ],
   "source": [
    "circuit = QuantumCircuit(3, 3)\n",
    "\n",
    "# initialize the state\n",
    "circuit.x(2)\n",
    "\n",
    "# phase\n",
    "circuit.h(0)\n",
    "circuit.h(1)\n",
    "\n",
    "circuit.cp(2*np.pi*phi, 0, 2)\n",
    "circuit.cp(2*np.pi*phi*2, 1, 2)\n",
    "\n",
    "# inverse QFT\n",
    "circuit.h(1)\n",
    "circuit.cp(-np.pi/2, 1, 0)\n",
    "circuit.h(0)"
   ]
  },
  {
   "cell_type": "code",
   "execution_count": 4,
   "metadata": {},
   "outputs": [
    {
     "output_type": "execute_result",
     "data": {
      "text/plain": [
       "<qiskit.circuit.instructionset.InstructionSet at 0x7fc3c094f130>"
      ]
     },
     "metadata": {},
     "execution_count": 4
    }
   ],
   "source": [
    "circuit.measure([0, 1, 2], [0, 1, 2])"
   ]
  },
  {
   "cell_type": "code",
   "execution_count": 5,
   "metadata": {},
   "outputs": [],
   "source": [
    "simulator = Aer.get_backend('qasm_simulator')"
   ]
  },
  {
   "cell_type": "code",
   "execution_count": 6,
   "metadata": {},
   "outputs": [],
   "source": [
    "job = execute(circuit, simulator, shots=1000)"
   ]
  },
  {
   "cell_type": "code",
   "execution_count": 7,
   "metadata": {},
   "outputs": [],
   "source": [
    "result = job.result()"
   ]
  },
  {
   "cell_type": "code",
   "execution_count": 8,
   "metadata": {},
   "outputs": [
    {
     "output_type": "execute_result",
     "data": {
      "text/plain": [
       "{'111': 1000}"
      ]
     },
     "metadata": {},
     "execution_count": 8
    }
   ],
   "source": [
    "result.get_counts(circuit)"
   ]
  },
  {
   "cell_type": "code",
   "execution_count": 9,
   "metadata": {},
   "outputs": [
    {
     "output_type": "execute_result",
     "data": {
      "text/plain": [
       "     ┌───┐                                 ┌───┐┌─┐\n",
       "q_0: ┤ H ├─■──────────────────────■────────┤ H ├┤M├\n",
       "     ├───┤ │                ┌───┐ │P(-π/2) └┬─┬┘└╥┘\n",
       "q_1: ┤ H ├─┼─────────■──────┤ H ├─■─────────┤M├──╫─\n",
       "     ├───┤ │P(3π/2)  │P(3π) └┬─┬┘           └╥┘  ║ \n",
       "q_2: ┤ X ├─■─────────■───────┤M├─────────────╫───╫─\n",
       "     └───┘                   └╥┘             ║   ║ \n",
       "c: 3/═════════════════════════╩══════════════╩═══╩═\n",
       "                              2              1   0 "
      ],
      "text/html": "<pre style=\"word-wrap: normal;white-space: pre;background: #fff0;line-height: 1.1;font-family: &quot;Courier New&quot;,Courier,monospace\">     ┌───┐                                 ┌───┐┌─┐\nq_0: ┤ H ├─■──────────────────────■────────┤ H ├┤M├\n     ├───┤ │                ┌───┐ │P(-π/2) └┬─┬┘└╥┘\nq_1: ┤ H ├─┼─────────■──────┤ H ├─■─────────┤M├──╫─\n     ├───┤ │P(3π/2)  │P(3π) └┬─┬┘           └╥┘  ║ \nq_2: ┤ X ├─■─────────■───────┤M├─────────────╫───╫─\n     └───┘                   └╥┘             ║   ║ \nc: 3/═════════════════════════╩══════════════╩═══╩═\n                              2              1   0 </pre>"
     },
     "metadata": {},
     "execution_count": 9
    }
   ],
   "source": [
    "circuit.draw()"
   ]
  },
  {
   "cell_type": "code",
   "execution_count": null,
   "metadata": {},
   "outputs": [],
   "source": []
  }
 ]
}