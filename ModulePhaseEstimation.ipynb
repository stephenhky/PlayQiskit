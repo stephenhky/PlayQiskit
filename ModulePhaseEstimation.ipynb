{
 "metadata": {
  "language_info": {
   "codemirror_mode": {
    "name": "ipython",
    "version": 3
   },
   "file_extension": ".py",
   "mimetype": "text/x-python",
   "name": "python",
   "nbconvert_exporter": "python",
   "pygments_lexer": "ipython3",
   "version": "3.8.10"
  },
  "orig_nbformat": 2,
  "kernelspec": {
   "name": "python3810jvsc74a57bd000c6afd182054d0072e7f6fdb7b39f9c26cb6199a23fd0e48341d0750a09dc42",
   "display_name": "Python 3.8.10 64-bit ('qiskit': conda)"
  },
  "metadata": {
   "interpreter": {
    "hash": "00c6afd182054d0072e7f6fdb7b39f9c26cb6199a23fd0e48341d0750a09dc42"
   }
  }
 },
 "nbformat": 4,
 "nbformat_minor": 2,
 "cells": [
  {
   "cell_type": "code",
   "execution_count": 1,
   "metadata": {},
   "outputs": [],
   "source": [
    "import numpy as np\n",
    "from qiskit import QuantumCircuit, execute, Aer\n",
    "from math import pi"
   ]
  },
  {
   "cell_type": "code",
   "execution_count": 2,
   "metadata": {},
   "outputs": [],
   "source": [
    "# reference: https://qiskit.org/textbook/ch-algorithms/quantum-phase-estimation.html\n",
    "\n",
    "def qft_dagger(qc, n):\n",
    "    \"\"\"n-qubit QFTdagger the first n qubits in circ\"\"\"\n",
    "    # Don't forget the Swaps!\n",
    "    for qubit in range(n//2):\n",
    "        qc.swap(qubit, n-qubit-1)\n",
    "    for j in range(n):\n",
    "        for m in range(j):\n",
    "            qc.cp(-pi/float(2**(j-m)), m, j)\n",
    "        qc.h(j)"
   ]
  },
  {
   "cell_type": "code",
   "execution_count": 34,
   "metadata": {},
   "outputs": [],
   "source": [
    "from functools import lru_cache\n",
    "\n",
    "@lru_cache(maxsize=10)\n",
    "def power(base, exponent):\n",
    "    if exponent == 0:\n",
    "        return 1\n",
    "    return base*power(base, exponent-1)\n",
    "\n",
    "\n",
    "def phase_estimation(qc, n, phi):\n",
    "    qc.x(n-1)\n",
    "\n",
    "    for i in range(n-1):\n",
    "        qc.h(i)\n",
    "\n",
    "    for i in range(n-1):\n",
    "        qc.cp(2*pi*phi*power(2, i), i, n-1)"
   ]
  },
  {
   "cell_type": "code",
   "execution_count": 47,
   "metadata": {},
   "outputs": [
    {
     "output_type": "execute_result",
     "data": {
      "text/plain": [
       "     ┌───┐                                    ┌───┐                         »\n",
       "q_0: ┤ H ├─■────────────────────────────────X─┤ H ├─■──────────────■────────»\n",
       "     ├───┤ │                                │ └───┘ │P(-π/2) ┌───┐ │        »\n",
       "q_1: ┤ H ├─┼────────■─────────────────X─────┼───────■────────┤ H ├─┼────────»\n",
       "     ├───┤ │        │                 │     │                └───┘ │P(-π/4) »\n",
       "q_2: ┤ H ├─┼────────┼────────■────────X─────┼──────────────────────■────────»\n",
       "     ├───┤ │        │        │              │                               »\n",
       "q_3: ┤ H ├─┼────────┼────────┼──────■───────X───────────────────────────────»\n",
       "     ├───┤ │P(π/4)  │P(π/2)  │P(π)  │P(2π) ┌─┐                              »\n",
       "q_4: ┤ X ├─■────────■────────■──────■──────┤M├──────────────────────────────»\n",
       "     └───┘                                 └╥┘                              »\n",
       "c: 5/═══════════════════════════════════════╩═══════════════════════════════»\n",
       "                                            4                               »\n",
       "«                                        ┌─┐                        \n",
       "«q_0: ───────────■───────────────────────┤M├────────────────────────\n",
       "«                │                       └╥┘          ┌─┐           \n",
       "«q_1: ─■─────────┼──────────────■─────────╫───────────┤M├───────────\n",
       "«      │P(-π/2)  │        ┌───┐ │         ║           └╥┘     ┌─┐   \n",
       "«q_2: ─■─────────┼────────┤ H ├─┼─────────╫──■─────────╫──────┤M├───\n",
       "«                │P(-π/8) └───┘ │P(-π/4)  ║  │P(-π/2)  ║ ┌───┐└╥┘┌─┐\n",
       "«q_3: ───────────■──────────────■─────────╫──■─────────╫─┤ H ├─╫─┤M├\n",
       "«                                         ║            ║ └───┘ ║ └╥┘\n",
       "«q_4: ────────────────────────────────────╫────────────╫───────╫──╫─\n",
       "«                                         ║            ║       ║  ║ \n",
       "«c: 5/════════════════════════════════════╩════════════╩═══════╩══╩═\n",
       "«                                         0            1       2  3 "
      ],
      "text/html": "<pre style=\"word-wrap: normal;white-space: pre;background: #fff0;line-height: 1.1;font-family: &quot;Courier New&quot;,Courier,monospace\">     ┌───┐                                    ┌───┐                         »\nq_0: ┤ H ├─■────────────────────────────────X─┤ H ├─■──────────────■────────»\n     ├───┤ │                                │ └───┘ │P(-π/2) ┌───┐ │        »\nq_1: ┤ H ├─┼────────■─────────────────X─────┼───────■────────┤ H ├─┼────────»\n     ├───┤ │        │                 │     │                └───┘ │P(-π/4) »\nq_2: ┤ H ├─┼────────┼────────■────────X─────┼──────────────────────■────────»\n     ├───┤ │        │        │              │                               »\nq_3: ┤ H ├─┼────────┼────────┼──────■───────X───────────────────────────────»\n     ├───┤ │P(π/4)  │P(π/2)  │P(π)  │P(2π) ┌─┐                              »\nq_4: ┤ X ├─■────────■────────■──────■──────┤M├──────────────────────────────»\n     └───┘                                 └╥┘                              »\nc: 5/═══════════════════════════════════════╩═══════════════════════════════»\n                                            4                               »\n«                                        ┌─┐                        \n«q_0: ───────────■───────────────────────┤M├────────────────────────\n«                │                       └╥┘          ┌─┐           \n«q_1: ─■─────────┼──────────────■─────────╫───────────┤M├───────────\n«      │P(-π/2)  │        ┌───┐ │         ║           └╥┘     ┌─┐   \n«q_2: ─■─────────┼────────┤ H ├─┼─────────╫──■─────────╫──────┤M├───\n«                │P(-π/8) └───┘ │P(-π/4)  ║  │P(-π/2)  ║ ┌───┐└╥┘┌─┐\n«q_3: ───────────■──────────────■─────────╫──■─────────╫─┤ H ├─╫─┤M├\n«                                         ║            ║ └───┘ ║ └╥┘\n«q_4: ────────────────────────────────────╫────────────╫───────╫──╫─\n«                                         ║            ║       ║  ║ \n«c: 5/════════════════════════════════════╩════════════╩═══════╩══╩═\n«                                         0            1       2  3 </pre>"
     },
     "metadata": {},
     "execution_count": 47
    }
   ],
   "source": [
    "circuit = QuantumCircuit(5, 5)\n",
    "\n",
    "phase_estimation(circuit, 5, 0.5*0.5*0.5)\n",
    "qft_dagger(circuit, 4)\n",
    "\n",
    "circuit.measure(list(range(5)), list(range(5)))\n",
    "circuit.draw()"
   ]
  },
  {
   "cell_type": "code",
   "execution_count": 48,
   "metadata": {},
   "outputs": [],
   "source": [
    "simulator = Aer.get_backend('qasm_simulator')\n",
    "job = execute(circuit, simulator, shots=10000)\n",
    "result = job.result()"
   ]
  },
  {
   "cell_type": "code",
   "execution_count": 49,
   "metadata": {},
   "outputs": [
    {
     "output_type": "execute_result",
     "data": {
      "text/plain": [
       "{'10010': 10000}"
      ]
     },
     "metadata": {},
     "execution_count": 49
    }
   ],
   "source": [
    "result.get_counts(circuit)"
   ]
  },
  {
   "cell_type": "code",
   "execution_count": null,
   "metadata": {},
   "outputs": [],
   "source": []
  }
 ]
}