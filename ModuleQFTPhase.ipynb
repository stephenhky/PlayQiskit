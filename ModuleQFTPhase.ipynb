{
 "metadata": {
  "language_info": {
   "codemirror_mode": {
    "name": "ipython",
    "version": 3
   },
   "file_extension": ".py",
   "mimetype": "text/x-python",
   "name": "python",
   "nbconvert_exporter": "python",
   "pygments_lexer": "ipython3",
   "version": "3.8.10"
  },
  "orig_nbformat": 2,
  "kernelspec": {
   "name": "python3810jvsc74a57bd000c6afd182054d0072e7f6fdb7b39f9c26cb6199a23fd0e48341d0750a09dc42",
   "display_name": "Python 3.8.10 64-bit ('qiskit': conda)"
  },
  "metadata": {
   "interpreter": {
    "hash": "00c6afd182054d0072e7f6fdb7b39f9c26cb6199a23fd0e48341d0750a09dc42"
   }
  }
 },
 "nbformat": 4,
 "nbformat_minor": 2,
 "cells": [
  {
   "cell_type": "code",
   "execution_count": 4,
   "metadata": {},
   "outputs": [],
   "source": [
    "import numpy as np\n",
    "from qiskit import QuantumCircuit, execute, Aer\n",
    "from math import pi"
   ]
  },
  {
   "cell_type": "code",
   "execution_count": 2,
   "metadata": {},
   "outputs": [],
   "source": [
    "# source: https://qiskit.org/textbook/ch-algorithms/quantum-fourier-transform.html\n",
    "\n",
    "def qft_rotations(circuit, n):\n",
    "    \"\"\"Performs qft on the first n qubits in circuit (without swaps)\"\"\"\n",
    "    if n == 0:\n",
    "        return circuit\n",
    "    n -= 1\n",
    "    circuit.h(n)\n",
    "    for qubit in range(n):\n",
    "        circuit.cp(pi/2**(n-qubit), qubit, n)\n",
    "    # At the end of our function, we call the same function again on\n",
    "    # the next qubits (we reduced n by one earlier in the function)\n",
    "    qft_rotations(circuit, n)"
   ]
  },
  {
   "cell_type": "code",
   "execution_count": 11,
   "metadata": {},
   "outputs": [
    {
     "output_type": "execute_result",
     "data": {
      "text/plain": [
       "                                                                          ┌───┐\n",
       "q_0: ──────■───────────────────────────────■──────────────────────■───────┤ H ├\n",
       "           │                               │                ┌───┐ │P(π/2) └───┘\n",
       "q_1: ──────┼────────■──────────────────────┼────────■───────┤ H ├─■────────────\n",
       "           │        │                ┌───┐ │P(π/4)  │P(π/2) └───┘              \n",
       "q_2: ──────┼────────┼────────■───────┤ H ├─■────────■──────────────────────────\n",
       "     ┌───┐ │P(π/8)  │P(π/4)  │P(π/2) └───┘                                     \n",
       "q_3: ┤ H ├─■────────■────────■─────────────────────────────────────────────────\n",
       "     └───┘                                                                     \n",
       "c: 4/══════════════════════════════════════════════════════════════════════════\n",
       "                                                                               "
      ],
      "text/html": "<pre style=\"word-wrap: normal;white-space: pre;background: #fff0;line-height: 1.1;font-family: &quot;Courier New&quot;,Courier,monospace\">                                                                          ┌───┐\nq_0: ──────■───────────────────────────────■──────────────────────■───────┤ H ├\n           │                               │                ┌───┐ │P(π/2) └───┘\nq_1: ──────┼────────■──────────────────────┼────────■───────┤ H ├─■────────────\n           │        │                ┌───┐ │P(π/4)  │P(π/2) └───┘              \nq_2: ──────┼────────┼────────■───────┤ H ├─■────────■──────────────────────────\n     ┌───┐ │P(π/8)  │P(π/4)  │P(π/2) └───┘                                     \nq_3: ┤ H ├─■────────■────────■─────────────────────────────────────────────────\n     └───┘                                                                     \nc: 4/══════════════════════════════════════════════════════════════════════════\n                                                                               </pre>"
     },
     "metadata": {},
     "execution_count": 11
    }
   ],
   "source": [
    "circuit = QuantumCircuit(4, 4)\n",
    "qft_rotations(circuit, 4)\n",
    "circuit.draw()"
   ]
  },
  {
   "cell_type": "code",
   "execution_count": 12,
   "metadata": {},
   "outputs": [],
   "source": [
    "simulator = Aer.get_backend('qasm_simulator')\n",
    "job = execute(circuit, simulator, shots=10000)\n",
    "result = job.result()"
   ]
  },
  {
   "cell_type": "code",
   "execution_count": 13,
   "metadata": {},
   "outputs": [
    {
     "output_type": "execute_result",
     "data": {
      "text/plain": [
       "{'0000': 10000}"
      ]
     },
     "metadata": {},
     "execution_count": 13
    }
   ],
   "source": [
    "result.get_counts(circuit)"
   ]
  },
  {
   "cell_type": "code",
   "execution_count": null,
   "metadata": {},
   "outputs": [],
   "source": []
  }
 ]
}