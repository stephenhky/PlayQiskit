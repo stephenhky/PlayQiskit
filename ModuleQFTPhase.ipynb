{
 "cells": [
  {
   "cell_type": "code",
   "execution_count": 1,
   "metadata": {},
   "outputs": [],
   "source": [
    "import numpy as np\n",
    "from qiskit import QuantumCircuit, execute, Aer\n",
    "from math import pi"
   ]
  },
  {
   "cell_type": "code",
   "execution_count": 2,
   "metadata": {},
   "outputs": [],
   "source": [
    "# source: https://qiskit.org/textbook/ch-algorithms/quantum-fourier-transform.html\n",
    "\n",
    "def qft_rotations(circuit, n):\n",
    "    \"\"\"Performs qft on the first n qubits in circuit (without swaps)\"\"\"\n",
    "    if n == 0:\n",
    "        return circuit\n",
    "    n -= 1\n",
    "    circuit.h(n)\n",
    "    for qubit in range(n):\n",
    "        circuit.cp(pi/2**(n-qubit), qubit, n)\n",
    "    # At the end of our function, we call the same function again on\n",
    "    # the next qubits (we reduced n by one earlier in the function)\n",
    "    qft_rotations(circuit, n)\n",
    "\n",
    "def swap_registers(circuit, n):\n",
    "    for qubit in range(n//2):\n",
    "        circuit.swap(qubit, n-qubit-1)\n",
    "    return circuit\n",
    "\n",
    "def qft(circuit, n):\n",
    "    \"\"\"QFT on the first n qubits in circuit\"\"\"\n",
    "    qft_rotations(circuit, n)\n",
    "    swap_registers(circuit, n)\n",
    "    return circuit"
   ]
  },
  {
   "cell_type": "code",
   "execution_count": 3,
   "metadata": {},
   "outputs": [
    {
     "data": {
      "text/html": [
       "<pre style=\"word-wrap: normal;white-space: pre;background: #fff0;line-height: 1.1;font-family: &quot;Courier New&quot;,Courier,monospace\">                                                                               »\n",
       "q_0: ──────■─────────────────────────────────────────■─────────────────────────»\n",
       "           │                                         │                         »\n",
       "q_1: ──────┼─────────■───────────────────────────────┼────────■────────────────»\n",
       "           │         │                               │        │                »\n",
       "q_2: ──────┼─────────┼────────■──────────────────────┼────────┼────────■───────»\n",
       "           │         │        │                ┌───┐ │P(π/8)  │P(π/4)  │P(π/2) »\n",
       "q_3: ──────┼─────────┼────────┼────────■───────┤ H ├─■────────■────────■───────»\n",
       "     ┌───┐ │P(π/16)  │P(π/8)  │P(π/4)  │P(π/2) └───┘                           »\n",
       "q_4: ┤ H ├─■─────────■────────■────────■───────────────────────────────────────»\n",
       "     └───┘                                                                     »\n",
       "c: 5/══════════════════════════════════════════════════════════════════════════»\n",
       "                                                                               »\n",
       "«                                          ┌───┐         ┌─┐   \n",
       "«q_0: ──────■──────────────────────■───────┤ H ├─X───────┤M├───\n",
       "«           │                ┌───┐ │P(π/2) └───┘ │ ┌─┐   └╥┘   \n",
       "«q_1: ──────┼────────■───────┤ H ├─■─────────X───┼─┤M├────╫────\n",
       "«     ┌───┐ │P(π/4)  │P(π/2) └┬─┬┘           │   │ └╥┘    ║    \n",
       "«q_2: ┤ H ├─■────────■────────┤M├────────────┼───┼──╫─────╫────\n",
       "«     └───┘                   └╥┘            │   │  ║ ┌─┐ ║    \n",
       "«q_3: ─────────────────────────╫─────────────X───┼──╫─┤M├─╫────\n",
       "«                              ║                 │  ║ └╥┘ ║ ┌─┐\n",
       "«q_4: ─────────────────────────╫─────────────────X──╫──╫──╫─┤M├\n",
       "«                              ║                    ║  ║  ║ └╥┘\n",
       "«c: 5/═════════════════════════╩════════════════════╩══╩══╩══╩═\n",
       "«                              2                    1  3  0  4 </pre>"
      ],
      "text/plain": [
       "                                                                               »\n",
       "q_0: ──────■─────────────────────────────────────────■─────────────────────────»\n",
       "           │                                         │                         »\n",
       "q_1: ──────┼─────────■───────────────────────────────┼────────■────────────────»\n",
       "           │         │                               │        │                »\n",
       "q_2: ──────┼─────────┼────────■──────────────────────┼────────┼────────■───────»\n",
       "           │         │        │                ┌───┐ │P(π/8)  │P(π/4)  │P(π/2) »\n",
       "q_3: ──────┼─────────┼────────┼────────■───────┤ H ├─■────────■────────■───────»\n",
       "     ┌───┐ │P(π/16)  │P(π/8)  │P(π/4)  │P(π/2) └───┘                           »\n",
       "q_4: ┤ H ├─■─────────■────────■────────■───────────────────────────────────────»\n",
       "     └───┘                                                                     »\n",
       "c: 5/══════════════════════════════════════════════════════════════════════════»\n",
       "                                                                               »\n",
       "«                                          ┌───┐         ┌─┐   \n",
       "«q_0: ──────■──────────────────────■───────┤ H ├─X───────┤M├───\n",
       "«           │                ┌───┐ │P(π/2) └───┘ │ ┌─┐   └╥┘   \n",
       "«q_1: ──────┼────────■───────┤ H ├─■─────────X───┼─┤M├────╫────\n",
       "«     ┌───┐ │P(π/4)  │P(π/2) └┬─┬┘           │   │ └╥┘    ║    \n",
       "«q_2: ┤ H ├─■────────■────────┤M├────────────┼───┼──╫─────╫────\n",
       "«     └───┘                   └╥┘            │   │  ║ ┌─┐ ║    \n",
       "«q_3: ─────────────────────────╫─────────────X───┼──╫─┤M├─╫────\n",
       "«                              ║                 │  ║ └╥┘ ║ ┌─┐\n",
       "«q_4: ─────────────────────────╫─────────────────X──╫──╫──╫─┤M├\n",
       "«                              ║                    ║  ║  ║ └╥┘\n",
       "«c: 5/═════════════════════════╩════════════════════╩══╩══╩══╩═\n",
       "«                              2                    1  3  0  4 "
      ]
     },
     "execution_count": 3,
     "metadata": {},
     "output_type": "execute_result"
    }
   ],
   "source": [
    "circuit = QuantumCircuit(5, 5)\n",
    "qft(circuit, 5)\n",
    "circuit.measure(list(range(5)), list(range(5)))\n",
    "circuit.draw()"
   ]
  },
  {
   "cell_type": "code",
   "execution_count": 4,
   "metadata": {},
   "outputs": [],
   "source": [
    "simulator = Aer.get_backend('qasm_simulator')\n",
    "job = execute(circuit, simulator, shots=10000)\n",
    "result = job.result()"
   ]
  },
  {
   "cell_type": "code",
   "execution_count": 5,
   "metadata": {},
   "outputs": [
    {
     "data": {
      "text/plain": [
       "{'11111': 309,\n",
       " '01111': 296,\n",
       " '11011': 297,\n",
       " '11000': 342,\n",
       " '10110': 295,\n",
       " '10001': 309,\n",
       " '11100': 295,\n",
       " '11101': 295,\n",
       " '00110': 323,\n",
       " '10101': 270,\n",
       " '00101': 298,\n",
       " '00001': 308,\n",
       " '11010': 300,\n",
       " '01011': 330,\n",
       " '10011': 334,\n",
       " '01110': 359,\n",
       " '00111': 301,\n",
       " '10100': 290,\n",
       " '01100': 344,\n",
       " '00100': 328,\n",
       " '01010': 285,\n",
       " '01101': 318,\n",
       " '10111': 328,\n",
       " '01000': 299,\n",
       " '01001': 323,\n",
       " '00011': 314,\n",
       " '00000': 317,\n",
       " '00010': 306,\n",
       " '10000': 329,\n",
       " '11001': 287,\n",
       " '11110': 353,\n",
       " '10010': 318}"
      ]
     },
     "execution_count": 5,
     "metadata": {},
     "output_type": "execute_result"
    }
   ],
   "source": [
    "result.get_counts(circuit)"
   ]
  },
  {
   "cell_type": "code",
   "execution_count": null,
   "metadata": {},
   "outputs": [],
   "source": []
  }
 ],
 "metadata": {
  "interpreter": {
   "hash": "00c6afd182054d0072e7f6fdb7b39f9c26cb6199a23fd0e48341d0750a09dc42"
  },
  "kernelspec": {
   "display_name": "Python 3.8.10 64-bit ('qiskit': conda)",
   "name": "python3"
  },
  "language_info": {
   "name": "python",
   "version": ""
  },
  "metadata": {
   "interpreter": {
    "hash": "00c6afd182054d0072e7f6fdb7b39f9c26cb6199a23fd0e48341d0750a09dc42"
   }
  },
  "orig_nbformat": 2
 },
 "nbformat": 4,
 "nbformat_minor": 2
}