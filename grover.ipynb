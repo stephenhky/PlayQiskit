{
 "cells": [
  {
   "cell_type": "code",
   "execution_count": 1,
   "metadata": {},
   "outputs": [],
   "source": [
    "import numpy as np\n",
    "from qiskit import QuantumCircuit\n",
    "from qiskit.extensions import UnitaryGate\n",
    "from qiskit.quantum_info import Statevector\n",
    "from qiskit.circuit.library import MCXGate"
   ]
  },
  {
   "cell_type": "code",
   "execution_count": 2,
   "metadata": {},
   "outputs": [],
   "source": [
    "def reflection_operator(n):\n",
    "    qc1 = QuantumCircuit(n)\n",
    "    qc1.h(0)\n",
    "    qc1.append(MCXGate(n-1), list(range(1, n))+[0])\n",
    "    qc1.h(0)\n",
    "    return qc1.to_gate()"
   ]
  },
  {
   "cell_type": "code",
   "execution_count": 3,
   "metadata": {},
   "outputs": [],
   "source": [
    "n = 3\n",
    "N = 2**n"
   ]
  },
  {
   "cell_type": "code",
   "execution_count": 4,
   "metadata": {},
   "outputs": [],
   "source": [
    "oracle_matrix = np.diag([1, 1, 1, 1, 1, 1, -1, 1])\n",
    "oracle_gate = UnitaryGate(oracle_matrix)"
   ]
  },
  {
   "cell_type": "code",
   "execution_count": 6,
   "metadata": {},
   "outputs": [
    {
     "name": "stdout",
     "output_type": "stream",
     "text": [
      "Statevector([9.52420783e-18+0.j, 1.00000000e+00+0.j, 1.26316153e-34+0.j,\n",
      "             2.36158002e-17+0.j],\n",
      "            dims=(2, 2))\n"
     ]
    }
   ],
   "source": [
    "qc = QuantumCircuit(n)\n",
    "qc.h(range(n))\n",
    "qc.append(oracle_gate, range(n))\n",
    "qc.append(reflection_operator(n), range(n))\n",
    "qc.h(range(n))\n",
    "Statevector(qc)"
   ]
  },
  {
   "cell_type": "code",
   "execution_count": 5,
   "metadata": {},
   "outputs": [
    {
     "name": "stdout",
     "output_type": "stream",
     "text": [
      "Statevector([ 0.5+0.j, -0.5+0.j,  0.5+0.j,  0.5+0.j],\n",
      "            dims=(2, 2))\n"
     ]
    }
   ],
   "source": [
    "Statevector(qc)"
   ]
  },
  {
   "cell_type": "code",
   "execution_count": null,
   "metadata": {},
   "outputs": [],
   "source": []
  }
 ],
 "metadata": {
  "kernelspec": {
   "display_name": "qiskit",
   "language": "python",
   "name": "python3"
  },
  "language_info": {
   "codemirror_mode": {
    "name": "ipython",
    "version": 3
   },
   "file_extension": ".py",
   "mimetype": "text/x-python",
   "name": "python",
   "nbconvert_exporter": "python",
   "pygments_lexer": "ipython3",
   "version": "3.8.10"
  },
  "orig_nbformat": 4,
  "vscode": {
   "interpreter": {
    "hash": "bf24669ddeaa442077ed150bdef2bee011a3761942402a8b77eecd97dd5d3377"
   }
  }
 },
 "nbformat": 4,
 "nbformat_minor": 2
}
