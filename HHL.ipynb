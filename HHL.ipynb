{
 "cells": [
  {
   "cell_type": "code",
   "execution_count": 13,
   "metadata": {},
   "outputs": [],
   "source": [
    "from math import pi\n",
    "\n",
    "import numpy as np\n",
    "from scipy.linalg import expm\n",
    "from qiskit import QuantumCircuit, QuantumRegister, ClassicalRegister\n",
    "from qiskit.extensions import UnitaryGate\n",
    "from qiskit.quantum_info import Statevector"
   ]
  },
  {
   "cell_type": "code",
   "execution_count": 14,
   "metadata": {},
   "outputs": [],
   "source": [
    "def qft_gate(nbdigits):\n",
    "    qr = QuantumRegister(nbdigits, 'qr')\n",
    "    circuit = QuantumCircuit(qr)\n",
    "    for i in range(nbdigits):\n",
    "        circuit.h(qr[i])\n",
    "        for j in range(i+1, nbdigits):\n",
    "            circuit.cp(2*pi/2**(j-i+1), j, i)\n",
    "    for i in range(nbdigits // 2):\n",
    "        circuit.swap(i, nbdigits-i-1)\n",
    "    return circuit.to_gate()\n",
    "\n",
    "\n",
    "def inv_qft_gate(nbdigits):\n",
    "    qr = QuantumRegister(nbdigits, 'qr')\n",
    "    circuit = QuantumCircuit(qr)\n",
    "    for i in range(nbdigits // 2):\n",
    "        circuit.swap(i, nbdigits-i-1)\n",
    "    for i in range(nbdigits):\n",
    "        circuit.h(qr[i])\n",
    "        for j in range(i+1, nbdigits):\n",
    "            rot_phase = - 2*pi/2**(j-i+1)\n",
    "            circuit.cp(rot_phase, j, i)\n",
    "    return circuit.to_gate()\n",
    "\n",
    "\n",
    "def phase_estimation_gate(gate, nbdigits, teststate_nbdigits):\n",
    "    # customized controlled gate\n",
    "    controlled_gate = gate.control(1)\n",
    "\n",
    "    # preparing for the circuit\n",
    "    circuit = QuantumCircuit(nbdigits + teststate_nbdigits)\n",
    "    circuit.h(range(nbdigits))\n",
    "    for i in range(nbdigits):\n",
    "        for _ in range(2 ** (i)):\n",
    "            circuit.append(controlled_gate, [i] + [j + nbdigits for j in range(teststate_nbdigits)])\n",
    "    circuit.append(inv_qft_gate(nbdigits), range(nbdigits))\n",
    "\n",
    "    return circuit.to_gate()\n",
    "\n",
    "\n",
    "def inv_phase_estimation_gate(gate, nbdigits, teststate_nbdigits):\n",
    "    # customized controlled gate\n",
    "    controlled_gate = gate.control(1)\n",
    "\n",
    "    # preparing for the circuit\n",
    "    circuit = QuantumCircuit(nbdigits + teststate_nbdigits)\n",
    "    circuit.append(qft_gate(nbdigits), range(nbdigits))\n",
    "    for i in range(nbdigits+1, 0, -1):\n",
    "        for _ in range(2 ** (i)):\n",
    "            circuit.append(controlled_gate, [i] + [j + nbdigits for j in range(teststate_nbdigits)])\n",
    "    circuit.h(range(nbdigits))\n",
    "\n",
    "    return circuit.to_gate()\n"
   ]
  },
  {
   "cell_type": "code",
   "execution_count": 15,
   "metadata": {},
   "outputs": [],
   "source": [
    "nbinputdigits = 1\n",
    "nbclockdigits = 1\n",
    "nbancilladigits = 1"
   ]
  },
  {
   "cell_type": "code",
   "execution_count": 16,
   "metadata": {},
   "outputs": [],
   "source": [
    "A = np.array([[1., 2.], [2., -3.]])\n",
    "b = np.array([4., -1.])\n",
    "b = b / np.linalg.norm(b)    # normalizing it"
   ]
  },
  {
   "cell_type": "code",
   "execution_count": 17,
   "metadata": {},
   "outputs": [],
   "source": [
    "initial_state = np.zeros(2**(nbancilladigits+nbclockdigits+nbinputdigits), dtype=np.complex_)\n",
    "initial_state[2**(nbancilladigits+nbclockdigits)] = b[0]\n",
    "initial_state[2**(nbancilladigits+nbclockdigits) + 1] = b[1]"
   ]
  },
  {
   "cell_type": "code",
   "execution_count": 18,
   "metadata": {},
   "outputs": [],
   "source": [
    "gate = UnitaryGate(expm(2*pi*(1.j)*A))"
   ]
  },
  {
   "cell_type": "code",
   "execution_count": 19,
   "metadata": {},
   "outputs": [
    {
     "data": {
      "text/plain": [
       "<qiskit.circuit.instructionset.InstructionSet at 0x7f8d9ee6c070>"
      ]
     },
     "execution_count": 19,
     "metadata": {},
     "output_type": "execute_result"
    }
   ],
   "source": [
    "circuit = QuantumCircuit(nbancilladigits + nbclockdigits + nbinputdigits, nbancilladigits)\n",
    "circuit.initialize(initial_state)\n",
    "circuit.append(phase_estimation_gate(gate, nbclockdigits, nbinputdigits), range(nbancilladigits, nbancilladigits+nbclockdigits+nbinputdigits))\n"
   ]
  },
  {
   "cell_type": "code",
   "execution_count": 20,
   "metadata": {},
   "outputs": [
    {
     "data": {
      "text/plain": [
       "{'000': 0.09131820408368199,\n",
       " '001': 0.005707387755230128,\n",
       " '010': 0.09131820408368192,\n",
       " '011': 0.005707387755230122,\n",
       " '100': 0.601891227769431,\n",
       " '101': 0.03761820173558946,\n",
       " '110': 0.15664883465143822,\n",
       " '111': 0.009790552165714898}"
      ]
     },
     "execution_count": 20,
     "metadata": {},
     "output_type": "execute_result"
    }
   ],
   "source": [
    "Statevector(circuit).probabilities_dict()"
   ]
  },
  {
   "cell_type": "code",
   "execution_count": null,
   "metadata": {},
   "outputs": [],
   "source": []
  }
 ],
 "metadata": {
  "kernelspec": {
   "display_name": "qiskit",
   "language": "python",
   "name": "python3"
  },
  "language_info": {
   "codemirror_mode": {
    "name": "ipython",
    "version": 3
   },
   "file_extension": ".py",
   "mimetype": "text/x-python",
   "name": "python",
   "nbconvert_exporter": "python",
   "pygments_lexer": "ipython3",
   "version": "3.8.10"
  },
  "orig_nbformat": 4,
  "vscode": {
   "interpreter": {
    "hash": "bf24669ddeaa442077ed150bdef2bee011a3761942402a8b77eecd97dd5d3377"
   }
  }
 },
 "nbformat": 4,
 "nbformat_minor": 2
}
