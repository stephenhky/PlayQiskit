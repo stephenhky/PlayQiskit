{
 "metadata": {
  "language_info": {
   "codemirror_mode": {
    "name": "ipython",
    "version": 3
   },
   "file_extension": ".py",
   "mimetype": "text/x-python",
   "name": "python",
   "nbconvert_exporter": "python",
   "pygments_lexer": "ipython3",
   "version": "3.8.10"
  },
  "orig_nbformat": 2,
  "kernelspec": {
   "name": "python3810jvsc74a57bd000c6afd182054d0072e7f6fdb7b39f9c26cb6199a23fd0e48341d0750a09dc42",
   "display_name": "Python 3.8.10 64-bit ('qiskit': conda)"
  },
  "metadata": {
   "interpreter": {
    "hash": "00c6afd182054d0072e7f6fdb7b39f9c26cb6199a23fd0e48341d0750a09dc42"
   }
  }
 },
 "nbformat": 4,
 "nbformat_minor": 2,
 "cells": [
  {
   "cell_type": "code",
   "execution_count": 1,
   "metadata": {},
   "outputs": [],
   "source": [
    "import numpy as np"
   ]
  },
  {
   "cell_type": "code",
   "execution_count": 17,
   "metadata": {},
   "outputs": [],
   "source": [
    "def FFT(f):\n",
    "    nbdata = f.shape[0]\n",
    "    assert np.log(nbdata) / np.log(2) % 1 == 0.0\n",
    "    \n",
    "    if nbdata == 1:\n",
    "        return f\n",
    "\n",
    "    x = FFT(f[0::2])\n",
    "    y = FFT(f[1::2])\n",
    "\n",
    "    g = np.zeros(nbdata, dtype=np.complex_)\n",
    "    for i in range(nbdata // 2):\n",
    "        w = np.exp(-1j*2*np.pi*i/nbdata)\n",
    "        g[i] = x[i] + w * y[i]\n",
    "        g[i+nbdata//2] = x[i] - w * y[i]\n",
    "\n",
    "    return g"
   ]
  },
  {
   "cell_type": "code",
   "execution_count": 24,
   "metadata": {},
   "outputs": [],
   "source": [
    "def invFFTrecursive(f):\n",
    "    nbdata = f.shape[0]\n",
    "    assert np.log(nbdata) / np.log(2) % 1 == 0.0\n",
    "    \n",
    "    if nbdata == 1:\n",
    "        return f\n",
    "\n",
    "    x = invFFTrecursive(f[0::2])\n",
    "    y = invFFTrecursive(f[1::2])\n",
    "\n",
    "    g = np.zeros(nbdata, dtype=np.complex_)\n",
    "    for i in range(nbdata // 2):\n",
    "        w = np.exp(1j*2*np.pi*i/nbdata)\n",
    "        g[i] = x[i] + w * y[i]\n",
    "        g[i+nbdata//2] = x[i] - w * y[i]\n",
    "\n",
    "    return g\n",
    "\n",
    "def invFFT(f):\n",
    "    nbdata = f.shape[0]\n",
    "    return invFFTrecursive(f) / nbdata"
   ]
  },
  {
   "cell_type": "code",
   "execution_count": 25,
   "metadata": {},
   "outputs": [
    {
     "output_type": "execute_result",
     "data": {
      "text/plain": [
       "array([ 0.        +0.j        ,  1.20710678-2.91421356j,\n",
       "        0.        +0.j        , -0.20710678+0.08578644j,\n",
       "        0.        +0.j        , -0.20710678-0.08578644j,\n",
       "        0.        +0.j        ,  1.20710678+2.91421356j])"
      ]
     },
     "metadata": {},
     "execution_count": 25
    }
   ],
   "source": [
    "FFT(np.array([.25, .75, .75, .25, -.25, -.75, -.75, -.25]))"
   ]
  },
  {
   "cell_type": "code",
   "execution_count": 26,
   "metadata": {},
   "outputs": [
    {
     "output_type": "execute_result",
     "data": {
      "text/plain": [
       "array([ 0.25+0.00000000e+00j,  0.75+0.00000000e+00j,\n",
       "        0.75+2.34646841e-17j,  0.25+0.00000000e+00j,\n",
       "       -0.25+0.00000000e+00j, -0.75+0.00000000e+00j,\n",
       "       -0.75-2.34646841e-17j, -0.25+0.00000000e+00j])"
      ]
     },
     "metadata": {},
     "execution_count": 26
    }
   ],
   "source": [
    "invFFT(FFT(np.array([.25, .75, .75, .25, -.25, -.75, -.75, -.25])))"
   ]
  },
  {
   "cell_type": "code",
   "execution_count": 28,
   "metadata": {},
   "outputs": [
    {
     "output_type": "execute_result",
     "data": {
      "text/plain": [
       "array([ 0.25,  0.75,  0.75,  0.25, -0.25, -0.75, -0.75, -0.25])"
      ]
     },
     "metadata": {},
     "execution_count": 28
    }
   ],
   "source": [
    "np.real(invFFT(FFT(np.array([.25, .75, .75, .25, -.25, -.75, -.75, -.25]))))"
   ]
  },
  {
   "cell_type": "code",
   "execution_count": 30,
   "metadata": {},
   "outputs": [
    {
     "output_type": "error",
     "ename": "AssertionError",
     "evalue": "\nArrays are not equal\n\nMismatched elements: 1 / 2 (50%)\nMax absolute difference: 1.\nMax relative difference: 0.5\n x: array([0., 1.])\n y: array([0., 2.])",
     "traceback": [
      "\u001b[0;31m---------------------------------------------------------------------------\u001b[0m",
      "\u001b[0;31mAssertionError\u001b[0m                            Traceback (most recent call last)",
      "\u001b[0;32m<ipython-input-30-979db9df2962>\u001b[0m in \u001b[0;36m<module>\u001b[0;34m\u001b[0m\n\u001b[0;32m----> 1\u001b[0;31m \u001b[0mnp\u001b[0m\u001b[0;34m.\u001b[0m\u001b[0mtesting\u001b[0m\u001b[0;34m.\u001b[0m\u001b[0massert_array_equal\u001b[0m\u001b[0;34m(\u001b[0m\u001b[0mnp\u001b[0m\u001b[0;34m.\u001b[0m\u001b[0marray\u001b[0m\u001b[0;34m(\u001b[0m\u001b[0;34m[\u001b[0m\u001b[0;36m0.\u001b[0m\u001b[0;34m,\u001b[0m \u001b[0;36m1.\u001b[0m\u001b[0;34m]\u001b[0m\u001b[0;34m)\u001b[0m\u001b[0;34m,\u001b[0m \u001b[0mnp\u001b[0m\u001b[0;34m.\u001b[0m\u001b[0marray\u001b[0m\u001b[0;34m(\u001b[0m\u001b[0;34m[\u001b[0m\u001b[0;36m0.\u001b[0m\u001b[0;34m,\u001b[0m \u001b[0;36m2.\u001b[0m\u001b[0;34m]\u001b[0m\u001b[0;34m)\u001b[0m\u001b[0;34m)\u001b[0m\u001b[0;34m\u001b[0m\u001b[0;34m\u001b[0m\u001b[0m\n\u001b[0m",
      "    \u001b[0;31m[... skipping hidden 1 frame]\u001b[0m\n",
      "\u001b[0;32m~/opt/anaconda3/envs/qiskit/lib/python3.8/site-packages/numpy/testing/_private/utils.py\u001b[0m in \u001b[0;36massert_array_compare\u001b[0;34m(comparison, x, y, err_msg, verbose, header, precision, equal_nan, equal_inf)\u001b[0m\n\u001b[1;32m    840\u001b[0m                                 \u001b[0mverbose\u001b[0m\u001b[0;34m=\u001b[0m\u001b[0mverbose\u001b[0m\u001b[0;34m,\u001b[0m \u001b[0mheader\u001b[0m\u001b[0;34m=\u001b[0m\u001b[0mheader\u001b[0m\u001b[0;34m,\u001b[0m\u001b[0;34m\u001b[0m\u001b[0;34m\u001b[0m\u001b[0m\n\u001b[1;32m    841\u001b[0m                                 names=('x', 'y'), precision=precision)\n\u001b[0;32m--> 842\u001b[0;31m             \u001b[0;32mraise\u001b[0m \u001b[0mAssertionError\u001b[0m\u001b[0;34m(\u001b[0m\u001b[0mmsg\u001b[0m\u001b[0;34m)\u001b[0m\u001b[0;34m\u001b[0m\u001b[0;34m\u001b[0m\u001b[0m\n\u001b[0m\u001b[1;32m    843\u001b[0m     \u001b[0;32mexcept\u001b[0m \u001b[0mValueError\u001b[0m\u001b[0;34m:\u001b[0m\u001b[0;34m\u001b[0m\u001b[0;34m\u001b[0m\u001b[0m\n\u001b[1;32m    844\u001b[0m         \u001b[0;32mimport\u001b[0m \u001b[0mtraceback\u001b[0m\u001b[0;34m\u001b[0m\u001b[0;34m\u001b[0m\u001b[0m\n",
      "\u001b[0;31mAssertionError\u001b[0m: \nArrays are not equal\n\nMismatched elements: 1 / 2 (50%)\nMax absolute difference: 1.\nMax relative difference: 0.5\n x: array([0., 1.])\n y: array([0., 2.])"
     ]
    }
   ],
   "source": [
    "np.testing.assert_array_equal(np.array([0., 1.]), np.array([0., 2.]))"
   ]
  },
  {
   "cell_type": "code",
   "execution_count": null,
   "metadata": {},
   "outputs": [],
   "source": []
  }
 ]
}