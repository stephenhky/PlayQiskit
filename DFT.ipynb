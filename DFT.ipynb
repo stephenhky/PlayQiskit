{
 "metadata": {
  "language_info": {
   "codemirror_mode": {
    "name": "ipython",
    "version": 3
   },
   "file_extension": ".py",
   "mimetype": "text/x-python",
   "name": "python",
   "nbconvert_exporter": "python",
   "pygments_lexer": "ipython3",
   "version": "3.8.0"
  },
  "orig_nbformat": 2,
  "kernelspec": {
   "name": "python380jvsc74a57bd0b4c9dd453d722db3b75a98f41b227ccc748ba7d477680f72686e3f9c9d390204",
   "display_name": "Python 3.8.0 64-bit ('finance': conda)"
  }
 },
 "nbformat": 4,
 "nbformat_minor": 2,
 "cells": [
  {
   "cell_type": "code",
   "execution_count": 1,
   "metadata": {},
   "outputs": [],
   "source": [
    "import numpy as np"
   ]
  },
  {
   "cell_type": "code",
   "execution_count": 2,
   "metadata": {},
   "outputs": [],
   "source": [
    "def slowDFT(t):\n",
    "    N = t.shape[0]\n",
    "    omega = np.zeros(N, dtype=np.complex_)\n",
    "    for n in range(N):\n",
    "        omega[n] = sum(t[m] * np.exp(-1j*2*np.pi*m*n/N) for m in range(N))\n",
    "    return omega"
   ]
  },
  {
   "cell_type": "code",
   "execution_count": 3,
   "metadata": {},
   "outputs": [],
   "source": [
    "def slowInvDFT(omega):\n",
    "    N = omega.shape[0]\n",
    "    t = np.zeros(N, dtype=np.complex_)\n",
    "    for m in range(N):\n",
    "        t[m] = sum(omega[n] * np.exp(1j*2*np.pi*m*n/N) for n in range(N)) / N\n",
    "    return t"
   ]
  },
  {
   "cell_type": "code",
   "execution_count": 4,
   "metadata": {},
   "outputs": [
    {
     "output_type": "execute_result",
     "data": {
      "text/plain": [
       "array([ 0.        +0.j        , -3.56907786+9.80596084j,\n",
       "        1.54813333-1.84499346j,  2.25      -1.29903811j,\n",
       "       -0.22905547+0.04038866j, -0.22905547-0.04038866j,\n",
       "        2.25      +1.29903811j,  1.54813333+1.84499346j,\n",
       "       -3.56907786-9.80596084j])"
      ]
     },
     "metadata": {},
     "execution_count": 4
    }
   ],
   "source": [
    "slowDFT(np.array([0, -1.5, -3., -1.5, 0, 1.5, 3., 1.5, 0.]))"
   ]
  },
  {
   "cell_type": "code",
   "execution_count": 5,
   "metadata": {},
   "outputs": [
    {
     "output_type": "execute_result",
     "data": {
      "text/plain": [
       "array([ 3.94745964e-15-1.18423789e-15j, -1.50000000e+00-3.05928122e-15j,\n",
       "       -3.00000000e+00+1.97372982e-16j, -1.50000000e+00-4.93432455e-16j,\n",
       "        9.39063642e-16+7.89491929e-16j,  1.50000000e+00+5.92118946e-16j,\n",
       "        3.00000000e+00-1.03620816e-15j,  1.50000000e+00-1.57898386e-15j,\n",
       "       -2.96059473e-16+3.55271368e-15j])"
      ]
     },
     "metadata": {},
     "execution_count": 5
    }
   ],
   "source": [
    "slowInvDFT(slowDFT(np.array([0, -1.5, -3., -1.5, 0, 1.5, 3., 1.5, 0.])))"
   ]
  },
  {
   "cell_type": "code",
   "execution_count": 6,
   "metadata": {},
   "outputs": [
    {
     "output_type": "execute_result",
     "data": {
      "text/plain": [
       "array([ 0.00000000e+00+0.00000000e+00j,  1.20710678e+00-2.91421356e+00j,\n",
       "       -1.14888010e-16+5.55111512e-17j, -2.07106781e-01+8.57864376e-02j,\n",
       "        0.00000000e+00+0.00000000e+00j, -2.07106781e-01-8.57864376e-02j,\n",
       "        2.12102087e-15+4.44089210e-16j,  1.20710678e+00+2.91421356e+00j])"
      ]
     },
     "metadata": {},
     "execution_count": 6
    }
   ],
   "source": [
    "slowDFT(np.array([.25, .75, .75, .25, -.25, -.75, -.75, -.25]))"
   ]
  },
  {
   "cell_type": "code",
   "execution_count": 7,
   "metadata": {},
   "outputs": [
    {
     "output_type": "execute_result",
     "data": {
      "text/plain": [
       "array([ 0.25+1.66533454e-16j,  0.75-2.22044605e-16j,\n",
       "        0.75+1.66533454e-16j,  0.25+2.22044605e-16j,\n",
       "       -0.25+5.55111512e-17j, -0.75+3.88578059e-16j,\n",
       "       -0.75-5.55111512e-16j, -0.25+8.88178420e-16j])"
      ]
     },
     "metadata": {},
     "execution_count": 7
    }
   ],
   "source": [
    "slowInvDFT(slowDFT(np.array([.25, .75, .75, .25, -.25, -.75, -.75, -.25])))"
   ]
  },
  {
   "cell_type": "code",
   "execution_count": null,
   "metadata": {},
   "outputs": [],
   "source": []
  }
 ]
}