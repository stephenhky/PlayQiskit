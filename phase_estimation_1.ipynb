{
 "cells": [
  {
   "cell_type": "code",
   "execution_count": 1,
   "metadata": {},
   "outputs": [],
   "source": [
    "import numpy as np\n",
    "from qiskit import QuantumCircuit, QuantumRegister, ClassicalRegister\n",
    "from qiskit import Aer, BasicAer, transpile\n",
    "from math import pi, sqrt"
   ]
  },
  {
   "cell_type": "code",
   "execution_count": 2,
   "metadata": {},
   "outputs": [],
   "source": [
    "def inv_qft_gate(nbdigits):\n",
    "    qr = QuantumRegister(nbdigits, 'qr')\n",
    "    circuit = QuantumCircuit(qr)\n",
    "    for i in range(nbdigits // 2):\n",
    "        circuit.swap(i, nbdigits-i-1)\n",
    "    for i in range(nbdigits):\n",
    "        circuit.h(qr[i])\n",
    "        for j in range(i+1, nbdigits):\n",
    "            rot_phase = - 2*pi/2**(j-i+1)\n",
    "            circuit.cp(rot_phase, j, i)\n",
    "    return circuit.to_gate()"
   ]
  },
  {
   "cell_type": "code",
   "execution_count": 3,
   "metadata": {},
   "outputs": [],
   "source": [
    "nbdigits = 5\n",
    "theta = 0.825"
   ]
  },
  {
   "cell_type": "code",
   "execution_count": 4,
   "metadata": {},
   "outputs": [],
   "source": [
    "initial_state = np.zeros(2**(nbdigits+1), dtype=np.complex_)\n",
    "initial_state[0] = 1. / sqrt(2)\n",
    "initial_state[2**nbdigits] = np.exp(2*pi*theta*1.j) / sqrt(2)"
   ]
  },
  {
   "cell_type": "code",
   "execution_count": 5,
   "metadata": {},
   "outputs": [
    {
     "data": {
      "text/plain": [
       "<qiskit.circuit.instructionset.InstructionSet at 0x7fd1a79a03a0>"
      ]
     },
     "execution_count": 5,
     "metadata": {},
     "output_type": "execute_result"
    }
   ],
   "source": [
    "circuit = QuantumCircuit(nbdigits+1, nbdigits)\n",
    "circuit.initialize(initial_state)\n",
    "circuit.h(range(nbdigits))\n",
    "for i in range(nbdigits):\n",
    "    circuit.cp(2*pi*2**(nbdigits-i-1), i, nbdigits)\n",
    "circuit.append(inv_qft_gate(nbdigits), range(nbdigits))\n",
    "circuit.measure(range(nbdigits), range(nbdigits))"
   ]
  },
  {
   "cell_type": "code",
   "execution_count": 6,
   "metadata": {},
   "outputs": [],
   "source": [
    "# circuit.draw()"
   ]
  },
  {
   "cell_type": "code",
   "execution_count": 7,
   "metadata": {},
   "outputs": [
    {
     "name": "stdout",
     "output_type": "stream",
     "text": [
      "{'00000': 1000}\n"
     ]
    }
   ],
   "source": [
    "backend = Aer.get_backend('aer_simulator')\n",
    "tqc = transpile(circuit, backend)\n",
    "job = backend.run(tqc, shots=1000)\n",
    "result = job.result()\n",
    "counts = result.get_counts()\n",
    "print(counts)"
   ]
  },
  {
   "cell_type": "code",
   "execution_count": 8,
   "metadata": {},
   "outputs": [
    {
     "data": {
      "text/plain": [
       "<qiskit.circuit.instructionset.InstructionSet at 0x7fd1a7fa14f0>"
      ]
     },
     "execution_count": 8,
     "metadata": {},
     "output_type": "execute_result"
    }
   ],
   "source": [
    "circuit1 = QuantumCircuit(nbdigits+1, nbdigits)\n",
    "circuit1.initialize(initial_state)\n",
    "circuit1.h(range(nbdigits))\n",
    "for i in range(nbdigits):\n",
    "    circuit1.cp(2*pi*2**(nbdigits-i-1), i, nbdigits)\n",
    "circuit1.append(inv_qft_gate(nbdigits), range(nbdigits))"
   ]
  },
  {
   "cell_type": "code",
   "execution_count": 9,
   "metadata": {},
   "outputs": [],
   "source": [
    "backend = BasicAer.get_backend('statevector_simulator')\n",
    "tqc1 = transpile(circuit1, backend)\n",
    "job = backend.run(tqc1)\n",
    "result = job.result()\n",
    "statevector = result.get_statevector(tqc1)"
   ]
  },
  {
   "cell_type": "code",
   "execution_count": 11,
   "metadata": {},
   "outputs": [
    {
     "data": {
      "text/plain": [
       "(array([ 0, 32]),)"
      ]
     },
     "execution_count": 11,
     "metadata": {},
     "output_type": "execute_result"
    }
   ],
   "source": [
    "np.where(statevector!=0)"
   ]
  },
  {
   "cell_type": "code",
   "execution_count": 12,
   "metadata": {},
   "outputs": [
    {
     "data": {
      "text/plain": [
       "(0.707106781186546-1.5264700697611401e-15j)"
      ]
     },
     "execution_count": 12,
     "metadata": {},
     "output_type": "execute_result"
    }
   ],
   "source": [
    "statevector[0]"
   ]
  },
  {
   "cell_type": "code",
   "execution_count": 13,
   "metadata": {},
   "outputs": [
    {
     "data": {
      "text/plain": [
       "(0.32101976096010093-0.6300367553350494j)"
      ]
     },
     "execution_count": 13,
     "metadata": {},
     "output_type": "execute_result"
    }
   ],
   "source": [
    "statevector[32]"
   ]
  },
  {
   "cell_type": "code",
   "execution_count": null,
   "metadata": {},
   "outputs": [],
   "source": []
  }
 ],
 "metadata": {
  "kernelspec": {
   "display_name": "Python 3.8.10 ('qiskit')",
   "language": "python",
   "name": "python3"
  },
  "language_info": {
   "codemirror_mode": {
    "name": "ipython",
    "version": 3
   },
   "file_extension": ".py",
   "mimetype": "text/x-python",
   "name": "python",
   "nbconvert_exporter": "python",
   "pygments_lexer": "ipython3",
   "version": "3.8.10"
  },
  "orig_nbformat": 4,
  "vscode": {
   "interpreter": {
    "hash": "bf24669ddeaa442077ed150bdef2bee011a3761942402a8b77eecd97dd5d3377"
   }
  }
 },
 "nbformat": 4,
 "nbformat_minor": 2
}
