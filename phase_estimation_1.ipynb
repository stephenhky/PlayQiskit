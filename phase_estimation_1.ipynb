{
 "cells": [
  {
   "cell_type": "code",
   "execution_count": 1,
   "metadata": {},
   "outputs": [],
   "source": [
    "import numpy as np\n",
    "from qiskit import QuantumCircuit, QuantumRegister, ClassicalRegister\n",
    "from qiskit import Aer, BasicAer, transpile\n",
    "from math import pi, sqrt"
   ]
  },
  {
   "cell_type": "code",
   "execution_count": 2,
   "metadata": {},
   "outputs": [],
   "source": [
    "def inv_qft_gate(nbdigits):\n",
    "    qr = QuantumRegister(nbdigits, 'qr')\n",
    "    circuit = QuantumCircuit(qr)\n",
    "    for i in range(nbdigits // 2):\n",
    "        circuit.swap(i, nbdigits-i-1)\n",
    "    for i in range(nbdigits):\n",
    "        circuit.h(qr[i])\n",
    "        for j in range(i+1, nbdigits):\n",
    "            rot_phase = - 2*pi/2**(j-i+1)\n",
    "            circuit.cp(rot_phase, j, i)\n",
    "    return circuit.to_gate()"
   ]
  },
  {
   "cell_type": "code",
   "execution_count": 3,
   "metadata": {},
   "outputs": [],
   "source": [
    "nbdigits = 5"
   ]
  },
  {
   "cell_type": "code",
   "execution_count": 4,
   "metadata": {},
   "outputs": [],
   "source": [
    "initial_state = np.zeros(2**(nbdigits+1), dtype=np.complex_)\n",
    "# initial_state[0] = 1. / sqrt(2)\n",
    "initial_state[2**nbdigits] = 1."
   ]
  },
  {
   "cell_type": "code",
   "execution_count": 8,
   "metadata": {},
   "outputs": [],
   "source": [
    "from qiskit.circuit.library import PhaseGate\n",
    "\n",
    "theta = 0.5+0.125\n",
    "gate = PhaseGate(2*pi*theta)"
   ]
  },
  {
   "cell_type": "code",
   "execution_count": 9,
   "metadata": {},
   "outputs": [
    {
     "data": {
      "text/plain": [
       "<qiskit.circuit.instructionset.InstructionSet at 0x7fe323f958b0>"
      ]
     },
     "execution_count": 9,
     "metadata": {},
     "output_type": "execute_result"
    }
   ],
   "source": [
    "circuit = QuantumCircuit(nbdigits+1, nbdigits)\n",
    "controlled_gate = gate.control(1)\n",
    "circuit.initialize(initial_state)\n",
    "circuit.h(range(nbdigits))\n",
    "for i in range(nbdigits):\n",
    "    for _ in range(2**(i)):\n",
    "        circuit.append(controlled_gate, [i, nbdigits])\n",
    "        # circuit.cp(2*pi*theta, i, nbdigits)\n",
    "circuit.append(inv_qft_gate(nbdigits), range(nbdigits))\n",
    "circuit.measure(range(nbdigits), range(nbdigits))"
   ]
  },
  {
   "cell_type": "code",
   "execution_count": 10,
   "metadata": {},
   "outputs": [
    {
     "name": "stdout",
     "output_type": "stream",
     "text": [
      "{'10100': 1000}\n"
     ]
    }
   ],
   "source": [
    "backend = Aer.get_backend('aer_simulator')\n",
    "tqc = transpile(circuit, backend)\n",
    "job = backend.run(tqc, shots=1000)\n",
    "result = job.result()\n",
    "counts = result.get_counts()\n",
    "print(counts)"
   ]
  },
  {
   "cell_type": "code",
   "execution_count": null,
   "metadata": {},
   "outputs": [],
   "source": []
  }
 ],
 "metadata": {
  "kernelspec": {
   "display_name": "Python 3.8.10 ('qiskit')",
   "language": "python",
   "name": "python3"
  },
  "language_info": {
   "codemirror_mode": {
    "name": "ipython",
    "version": 3
   },
   "file_extension": ".py",
   "mimetype": "text/x-python",
   "name": "python",
   "nbconvert_exporter": "python",
   "pygments_lexer": "ipython3",
   "version": "3.8.10"
  },
  "orig_nbformat": 4,
  "vscode": {
   "interpreter": {
    "hash": "bf24669ddeaa442077ed150bdef2bee011a3761942402a8b77eecd97dd5d3377"
   }
  }
 },
 "nbformat": 4,
 "nbformat_minor": 2
}
