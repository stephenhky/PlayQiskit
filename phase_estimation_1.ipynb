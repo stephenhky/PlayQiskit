{
 "cells": [
  {
   "cell_type": "code",
   "execution_count": 1,
   "metadata": {},
   "outputs": [],
   "source": [
    "import numpy as np\n",
    "from qiskit import QuantumCircuit, QuantumRegister, ClassicalRegister\n",
    "from qiskit import Aer, BasicAer, transpile\n",
    "from math import pi, sqrt"
   ]
  },
  {
   "cell_type": "code",
   "execution_count": 2,
   "metadata": {},
   "outputs": [],
   "source": [
    "def inv_qft_gate(nbdigits):\n",
    "    qr = QuantumRegister(nbdigits, 'qr')\n",
    "    circuit = QuantumCircuit(qr)\n",
    "    for i in range(nbdigits // 2):\n",
    "        circuit.swap(i, nbdigits-i-1)\n",
    "    for i in range(nbdigits):\n",
    "        circuit.h(qr[i])\n",
    "        for j in range(i+1, nbdigits):\n",
    "            rot_phase = - 2*pi/2**(j-i+1)\n",
    "            circuit.cp(rot_phase, j, i)\n",
    "    return circuit.to_gate()\n",
    "\n",
    "def phase_estimation_circuit(gate, nbdigits, teststate_nbdigits, initial_monopartite_state=np.array([0, 1])):\n",
    "    # customized controlled gate\n",
    "    controlled_gate = gate.control(1)\n",
    "\n",
    "    # initial_state\n",
    "    assert len(initial_monopartite_state) == 2**teststate_nbdigits\n",
    "    assert np.linalg.norm(initial_monopartite_state) == 1\n",
    "    initial_state = np.zeros(2 ** (nbdigits + teststate_nbdigits), dtype=np.complex_)\n",
    "    for i in range(2 ** teststate_nbdigits):\n",
    "        initial_state[i * 2 ** nbdigits] = initial_monopartite_state[i]\n",
    "\n",
    "    # building the circuit\n",
    "    circuit = QuantumCircuit(nbdigits + teststate_nbdigits, nbdigits)\n",
    "    circuit.initialize(initial_state)\n",
    "    circuit.h(range(nbdigits))\n",
    "    for i in range(nbdigits):\n",
    "        for _ in range(2 ** (i)):\n",
    "            circuit.append(controlled_gate, [i]+[j+nbdigits for j in range(teststate_nbdigits)])\n",
    "    circuit.append(inv_qft_gate(nbdigits), range(nbdigits))\n",
    "    circuit.measure(range(nbdigits), range(nbdigits))\n",
    "\n",
    "    return circuit"
   ]
  },
  {
   "cell_type": "code",
   "execution_count": 3,
   "metadata": {},
   "outputs": [],
   "source": [
    "nbdigits = 5"
   ]
  },
  {
   "cell_type": "code",
   "execution_count": 4,
   "metadata": {},
   "outputs": [],
   "source": [
    "from qiskit.circuit.library import PhaseGate\n",
    "\n",
    "theta = 0.5+0.25\n",
    "teststate_nbdigits = 2\n",
    "\n",
    "gate_circuit = QuantumCircuit(teststate_nbdigits)\n",
    "for i in range(teststate_nbdigits):\n",
    "    gate_circuit.p(2*pi*theta*i, i)\n",
    "gate = gate_circuit.to_gate()"
   ]
  },
  {
   "cell_type": "code",
   "execution_count": 5,
   "metadata": {},
   "outputs": [],
   "source": [
    "initial_monopartite_state = np.zeros(2**teststate_nbdigits)\n",
    "initial_monopartite_state[2] = 1"
   ]
  },
  {
   "cell_type": "code",
   "execution_count": 6,
   "metadata": {},
   "outputs": [],
   "source": [
    "circuit = phase_estimation_circuit(gate, nbdigits, teststate_nbdigits, initial_monopartite_state=initial_monopartite_state)"
   ]
  },
  {
   "cell_type": "code",
   "execution_count": 7,
   "metadata": {},
   "outputs": [
    {
     "name": "stdout",
     "output_type": "stream",
     "text": [
      "{'11000': 1000}\n"
     ]
    }
   ],
   "source": [
    "backend = Aer.get_backend('aer_simulator')\n",
    "tqc = transpile(circuit, backend)\n",
    "job = backend.run(tqc, shots=1000)\n",
    "result = job.result()\n",
    "counts = result.get_counts()\n",
    "print(counts)"
   ]
  },
  {
   "cell_type": "code",
   "execution_count": null,
   "metadata": {},
   "outputs": [],
   "source": []
  }
 ],
 "metadata": {
  "kernelspec": {
   "display_name": "Python 3.8.10 ('qiskit')",
   "language": "python",
   "name": "python3"
  },
  "language_info": {
   "codemirror_mode": {
    "name": "ipython",
    "version": 3
   },
   "file_extension": ".py",
   "mimetype": "text/x-python",
   "name": "python",
   "nbconvert_exporter": "python",
   "pygments_lexer": "ipython3",
   "version": "3.8.10 (default, May 19 2021, 11:01:55) \n[Clang 10.0.0 ]"
  },
  "orig_nbformat": 4,
  "vscode": {
   "interpreter": {
    "hash": "bf24669ddeaa442077ed150bdef2bee011a3761942402a8b77eecd97dd5d3377"
   }
  }
 },
 "nbformat": 4,
 "nbformat_minor": 2
}
