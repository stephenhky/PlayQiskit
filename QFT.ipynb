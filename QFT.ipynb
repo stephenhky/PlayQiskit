{
 "metadata": {
  "language_info": {
   "codemirror_mode": {
    "name": "ipython",
    "version": 3
   },
   "file_extension": ".py",
   "mimetype": "text/x-python",
   "name": "python",
   "nbconvert_exporter": "python",
   "pygments_lexer": "ipython3",
   "version": "3.8.10"
  },
  "orig_nbformat": 2,
  "kernelspec": {
   "name": "python3810jvsc74a57bd000c6afd182054d0072e7f6fdb7b39f9c26cb6199a23fd0e48341d0750a09dc42",
   "display_name": "Python 3.8.10 64-bit ('qiskit': conda)"
  },
  "metadata": {
   "interpreter": {
    "hash": "00c6afd182054d0072e7f6fdb7b39f9c26cb6199a23fd0e48341d0750a09dc42"
   }
  }
 },
 "nbformat": 4,
 "nbformat_minor": 2,
 "cells": [
  {
   "cell_type": "code",
   "execution_count": 1,
   "metadata": {},
   "outputs": [],
   "source": [
    "import numpy as np\n",
    "from qiskit import QuantumCircuit, execute, Aer"
   ]
  },
  {
   "cell_type": "code",
   "execution_count": 2,
   "metadata": {},
   "outputs": [],
   "source": [
    "circuit = QuantumCircuit(5, 5)"
   ]
  },
  {
   "cell_type": "code",
   "execution_count": 3,
   "metadata": {},
   "outputs": [
    {
     "output_type": "execute_result",
     "data": {
      "text/plain": [
       "<qiskit.circuit.instructionset.InstructionSet at 0x7fca00a52340>"
      ]
     },
     "metadata": {},
     "execution_count": 3
    }
   ],
   "source": [
    "circuit.h(0)\n",
    "circuit.crz(np.pi/2, 1, 0)\n",
    "\n",
    "circuit.h(1)\n",
    "circuit.crz(np.pi/4, 2, 0)\n",
    "circuit.crz(np.pi/2, 2, 1)\n",
    "\n",
    "circuit.h(2)\n",
    "circuit.crz(np.pi/8, 3, 0)\n",
    "circuit.crz(np.pi/4, 3, 1)\n",
    "circuit.crz(np.pi/2, 3, 2)\n",
    "\n",
    "circuit.h(3)\n",
    "circuit.crz(np.pi/16, 4, 0)\n",
    "circuit.crz(np.pi/8, 4, 1)\n",
    "circuit.crz(np.pi/4, 4, 2)\n",
    "circuit.crz(np.pi/2, 4, 3)\n",
    "\n",
    "circuit.h(4)"
   ]
  },
  {
   "cell_type": "code",
   "execution_count": 4,
   "metadata": {},
   "outputs": [
    {
     "output_type": "execute_result",
     "data": {
      "text/plain": [
       "<qiskit.circuit.instructionset.InstructionSet at 0x7fca00a3efd0>"
      ]
     },
     "metadata": {},
     "execution_count": 4
    }
   ],
   "source": [
    "circuit.measure([0, 1, 2, 3, 4], [0, 1, 2, 3, 4])"
   ]
  },
  {
   "cell_type": "code",
   "execution_count": 5,
   "metadata": {},
   "outputs": [],
   "source": [
    "simulator = Aer.get_backend('qasm_simulator')"
   ]
  },
  {
   "cell_type": "code",
   "execution_count": 6,
   "metadata": {},
   "outputs": [],
   "source": [
    "job = execute(circuit, simulator, shots=10000)"
   ]
  },
  {
   "cell_type": "code",
   "execution_count": 7,
   "metadata": {},
   "outputs": [],
   "source": [
    "result = job.result()"
   ]
  },
  {
   "cell_type": "code",
   "execution_count": 8,
   "metadata": {},
   "outputs": [
    {
     "output_type": "execute_result",
     "data": {
      "text/plain": [
       "{'00010': 305,\n",
       " '00110': 280,\n",
       " '11101': 300,\n",
       " '01010': 298,\n",
       " '11111': 298,\n",
       " '11011': 316,\n",
       " '11001': 310,\n",
       " '10000': 307,\n",
       " '01001': 349,\n",
       " '10101': 296,\n",
       " '00101': 334,\n",
       " '10011': 301,\n",
       " '01110': 331,\n",
       " '10010': 320,\n",
       " '10110': 308,\n",
       " '01100': 352,\n",
       " '00100': 299,\n",
       " '00011': 300,\n",
       " '11010': 327,\n",
       " '00001': 332,\n",
       " '00000': 321,\n",
       " '01111': 298,\n",
       " '01011': 310,\n",
       " '11110': 331,\n",
       " '00111': 313,\n",
       " '10100': 314,\n",
       " '11000': 273,\n",
       " '10001': 321,\n",
       " '01000': 299,\n",
       " '11100': 303,\n",
       " '01101': 334,\n",
       " '10111': 320}"
      ]
     },
     "metadata": {},
     "execution_count": 8
    }
   ],
   "source": [
    "result.get_counts(circuit)"
   ]
  },
  {
   "cell_type": "code",
   "execution_count": null,
   "metadata": {},
   "outputs": [],
   "source": []
  }
 ]
}