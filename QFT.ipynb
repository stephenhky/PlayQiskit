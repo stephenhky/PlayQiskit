{
 "metadata": {
  "language_info": {
   "codemirror_mode": {
    "name": "ipython",
    "version": 3
   },
   "file_extension": ".py",
   "mimetype": "text/x-python",
   "name": "python",
   "nbconvert_exporter": "python",
   "pygments_lexer": "ipython3",
   "version": "3.8.10"
  },
  "orig_nbformat": 2,
  "kernelspec": {
   "name": "python3810jvsc74a57bd000c6afd182054d0072e7f6fdb7b39f9c26cb6199a23fd0e48341d0750a09dc42",
   "display_name": "Python 3.8.10 64-bit ('qiskit': conda)"
  },
  "metadata": {
   "interpreter": {
    "hash": "00c6afd182054d0072e7f6fdb7b39f9c26cb6199a23fd0e48341d0750a09dc42"
   }
  }
 },
 "nbformat": 4,
 "nbformat_minor": 2,
 "cells": [
  {
   "cell_type": "code",
   "execution_count": 1,
   "metadata": {},
   "outputs": [],
   "source": [
    "import numpy as np\n",
    "from qiskit import QuantumCircuit, execute, Aer"
   ]
  },
  {
   "cell_type": "code",
   "execution_count": 2,
   "metadata": {},
   "outputs": [],
   "source": [
    "circuit = QuantumCircuit(5, 5)"
   ]
  },
  {
   "cell_type": "code",
   "execution_count": 3,
   "metadata": {},
   "outputs": [
    {
     "output_type": "execute_result",
     "data": {
      "text/plain": [
       "<qiskit.circuit.instructionset.InstructionSet at 0x7fb1b4248250>"
      ]
     },
     "metadata": {},
     "execution_count": 3
    }
   ],
   "source": [
    "circuit.h(4)\n",
    "circuit.cp(np.pi/2, 3, 4)\n",
    "\n",
    "circuit.h(3)\n",
    "circuit.cp(np.pi/4, 2, 4)\n",
    "circuit.cp(np.pi/2, 2, 3)\n",
    "\n",
    "circuit.h(2)\n",
    "circuit.cp(np.pi/8, 1, 4)\n",
    "circuit.cp(np.pi/4, 1, 3)\n",
    "circuit.cp(np.pi/2, 1, 2)\n",
    "\n",
    "circuit.h(1)\n",
    "circuit.cp(np.pi/16, 0, 4)\n",
    "circuit.cp(np.pi/8, 0, 3)\n",
    "circuit.cp(np.pi/4, 0, 2)\n",
    "circuit.cp(np.pi/2, 0, 1)\n",
    "\n",
    "circuit.h(0)"
   ]
  },
  {
   "cell_type": "code",
   "execution_count": 4,
   "metadata": {},
   "outputs": [
    {
     "output_type": "execute_result",
     "data": {
      "text/plain": [
       "<qiskit.circuit.instructionset.InstructionSet at 0x7fb1b42487c0>"
      ]
     },
     "metadata": {},
     "execution_count": 4
    }
   ],
   "source": [
    "circuit.measure([0, 1, 2, 3, 4], [0, 1, 2, 3, 4])"
   ]
  },
  {
   "cell_type": "code",
   "execution_count": 5,
   "metadata": {},
   "outputs": [],
   "source": [
    "simulator = Aer.get_backend('qasm_simulator')"
   ]
  },
  {
   "cell_type": "code",
   "execution_count": 6,
   "metadata": {},
   "outputs": [],
   "source": [
    "job = execute(circuit, simulator, shots=10000)"
   ]
  },
  {
   "cell_type": "code",
   "execution_count": 7,
   "metadata": {},
   "outputs": [],
   "source": [
    "result = job.result()"
   ]
  },
  {
   "cell_type": "code",
   "execution_count": 8,
   "metadata": {},
   "outputs": [
    {
     "output_type": "execute_result",
     "data": {
      "text/plain": [
       "{'00010': 313,\n",
       " '10001': 308,\n",
       " '00000': 338,\n",
       " '11000': 311,\n",
       " '00100': 315,\n",
       " '11100': 317,\n",
       " '01010': 306,\n",
       " '01101': 324,\n",
       " '10111': 312,\n",
       " '01111': 313,\n",
       " '01000': 270,\n",
       " '10010': 292,\n",
       " '10000': 292,\n",
       " '11001': 290,\n",
       " '00110': 311,\n",
       " '11101': 335,\n",
       " '01100': 333,\n",
       " '10011': 312,\n",
       " '01110': 289,\n",
       " '00011': 312,\n",
       " '11010': 338,\n",
       " '00001': 287,\n",
       " '01011': 319,\n",
       " '00101': 322,\n",
       " '10101': 319,\n",
       " '10100': 312,\n",
       " '00111': 306,\n",
       " '11110': 303,\n",
       " '11111': 330,\n",
       " '10110': 304,\n",
       " '11011': 332,\n",
       " '01001': 335}"
      ]
     },
     "metadata": {},
     "execution_count": 8
    }
   ],
   "source": [
    "result.get_counts(circuit)"
   ]
  },
  {
   "cell_type": "code",
   "execution_count": 9,
   "metadata": {},
   "outputs": [
    {
     "output_type": "execute_result",
     "data": {
      "text/plain": [
       "                                                                           »\n",
       "q_0: ─────────────────────────────────────────────────────────────■────────»\n",
       "                                                                  │        »\n",
       "q_1: ──────────────────────────────────────■─────────────■────────┼────────»\n",
       "                                           │       ┌───┐ │        │        »\n",
       "q_2: ────────────────────■────────■────────┼───────┤ H ├─┼────────┼────────»\n",
       "                   ┌───┐ │        │P(π/2)  │       └───┘ │P(π/4)  │        »\n",
       "q_3: ──────■───────┤ H ├─┼────────■────────┼─────────────■────────┼────────»\n",
       "     ┌───┐ │P(π/2) └───┘ │P(π/4)           │P(π/8)                │P(π/16) »\n",
       "q_4: ┤ H ├─■─────────────■─────────────────■──────────────────────■────────»\n",
       "     └───┘                                                                 »\n",
       "c: 5/══════════════════════════════════════════════════════════════════════»\n",
       "                                                                           »\n",
       "«                                              ┌───┐┌─┐\n",
       "«q_0: ──────────■─────────────■────────■───────┤ H ├┤M├\n",
       "«               │       ┌───┐ │        │P(π/2) └┬─┬┘└╥┘\n",
       "«q_1: ─■────────┼───────┤ H ├─┼────────■────────┤M├──╫─\n",
       "«      │P(π/2)  │       └───┘ │P(π/4)    ┌─┐    └╥┘  ║ \n",
       "«q_2: ─■────────┼─────────────■──────────┤M├─────╫───╫─\n",
       "«               │P(π/8)  ┌─┐             └╥┘     ║   ║ \n",
       "«q_3: ──────────■────────┤M├──────────────╫──────╫───╫─\n",
       "«        ┌─┐             └╥┘              ║      ║   ║ \n",
       "«q_4: ───┤M├──────────────╫───────────────╫──────╫───╫─\n",
       "«        └╥┘              ║               ║      ║   ║ \n",
       "«c: 5/════╩═══════════════╩═══════════════╩══════╩═══╩═\n",
       "«         4               3               2      1   0 "
      ],
      "text/html": "<pre style=\"word-wrap: normal;white-space: pre;background: #fff0;line-height: 1.1;font-family: &quot;Courier New&quot;,Courier,monospace\">                                                                           »\nq_0: ─────────────────────────────────────────────────────────────■────────»\n                                                                  │        »\nq_1: ──────────────────────────────────────■─────────────■────────┼────────»\n                                           │       ┌───┐ │        │        »\nq_2: ────────────────────■────────■────────┼───────┤ H ├─┼────────┼────────»\n                   ┌───┐ │        │P(π/2)  │       └───┘ │P(π/4)  │        »\nq_3: ──────■───────┤ H ├─┼────────■────────┼─────────────■────────┼────────»\n     ┌───┐ │P(π/2) └───┘ │P(π/4)           │P(π/8)                │P(π/16) »\nq_4: ┤ H ├─■─────────────■─────────────────■──────────────────────■────────»\n     └───┘                                                                 »\nc: 5/══════════════════════════════════════════════════════════════════════»\n                                                                           »\n«                                              ┌───┐┌─┐\n«q_0: ──────────■─────────────■────────■───────┤ H ├┤M├\n«               │       ┌───┐ │        │P(π/2) └┬─┬┘└╥┘\n«q_1: ─■────────┼───────┤ H ├─┼────────■────────┤M├──╫─\n«      │P(π/2)  │       └───┘ │P(π/4)    ┌─┐    └╥┘  ║ \n«q_2: ─■────────┼─────────────■──────────┤M├─────╫───╫─\n«               │P(π/8)  ┌─┐             └╥┘     ║   ║ \n«q_3: ──────────■────────┤M├──────────────╫──────╫───╫─\n«        ┌─┐             └╥┘              ║      ║   ║ \n«q_4: ───┤M├──────────────╫───────────────╫──────╫───╫─\n«        └╥┘              ║               ║      ║   ║ \n«c: 5/════╩═══════════════╩═══════════════╩══════╩═══╩═\n«         4               3               2      1   0 </pre>"
     },
     "metadata": {},
     "execution_count": 9
    }
   ],
   "source": [
    "circuit.draw()"
   ]
  },
  {
   "cell_type": "code",
   "execution_count": null,
   "metadata": {},
   "outputs": [],
   "source": []
  }
 ]
}