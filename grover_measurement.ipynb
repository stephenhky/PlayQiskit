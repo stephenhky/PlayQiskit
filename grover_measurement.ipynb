{
 "cells": [
  {
   "cell_type": "code",
   "execution_count": 1,
   "metadata": {},
   "outputs": [],
   "source": [
    "import numpy as np\n",
    "from qiskit import QuantumCircuit, Aer, transpile\n",
    "from qiskit.extensions import UnitaryGate\n",
    "from qiskit.quantum_info import Statevector\n",
    "from qiskit.circuit.library import MCXGate\n",
    "from qiskit.visualization import plot_histogram"
   ]
  },
  {
   "cell_type": "code",
   "execution_count": 2,
   "metadata": {},
   "outputs": [],
   "source": [
    "def reflection_operator(n):\n",
    "    qc1 = QuantumCircuit(n)\n",
    "    qc1.x(range(n))\n",
    "    qc1.h(0)\n",
    "    qc1.append(MCXGate(n-1), list(range(1, n))+[0])\n",
    "    qc1.h(0)\n",
    "    qc1.x(range(n))\n",
    "    return qc1.to_gate()\n",
    "\n",
    "def grover_gate(n, oracle_gate):\n",
    "    qc = QuantumCircuit(n)\n",
    "    qc.h(range(n))\n",
    "    qc.append(oracle_gate, range(n))\n",
    "    qc.h(range(n))\n",
    "    qc.append(reflection_operator(n), range(n))\n",
    "    qc.h(range(n))\n",
    "    return qc.to_gate()"
   ]
  },
  {
   "cell_type": "code",
   "execution_count": 3,
   "metadata": {},
   "outputs": [],
   "source": [
    "n = 4\n",
    "N = 2**n\n",
    "oracle_vals = np.array([1.]*N)\n",
    "oracle_vals[10] = -1.\n",
    "oracle_gate = UnitaryGate(np.diag(oracle_vals))"
   ]
  },
  {
   "cell_type": "code",
   "execution_count": 4,
   "metadata": {},
   "outputs": [
    {
     "data": {
      "text/plain": [
       "<qiskit.circuit.instructionset.InstructionSet at 0x7fcea19a7f10>"
      ]
     },
     "execution_count": 4,
     "metadata": {},
     "output_type": "execute_result"
    }
   ],
   "source": [
    "qc = QuantumCircuit(n, n)\n",
    "qc.append(grover_gate(n, oracle_gate), range(n))\n",
    "qc.measure(range(n), range(n))"
   ]
  },
  {
   "cell_type": "code",
   "execution_count": 5,
   "metadata": {},
   "outputs": [],
   "source": [
    "backend = Aer.get_backend('aer_simulator')\n",
    "tqc = transpile(qc, backend)\n",
    "job = backend.run(tqc, shots=1000)\n",
    "result = job.result()\n"
   ]
  },
  {
   "cell_type": "code",
   "execution_count": 6,
   "metadata": {},
   "outputs": [
    {
     "data": {
      "text/plain": [
       "{'0101': 32,\n",
       " '0110': 36,\n",
       " '0111': 35,\n",
       " '1100': 33,\n",
       " '0100': 31,\n",
       " '0011': 37,\n",
       " '0001': 31,\n",
       " '1010': 467,\n",
       " '1110': 43,\n",
       " '1000': 42,\n",
       " '1111': 34,\n",
       " '1101': 38,\n",
       " '0000': 36,\n",
       " '0010': 33,\n",
       " '1011': 33,\n",
       " '1001': 39}"
      ]
     },
     "execution_count": 6,
     "metadata": {},
     "output_type": "execute_result"
    }
   ],
   "source": [
    "result.get_counts()"
   ]
  },
  {
   "cell_type": "code",
   "execution_count": 7,
   "metadata": {},
   "outputs": [
    {
     "data": {
      "image/png": "[encoded data removed]",
      "text/plain": [
       "<Figure size 504x360 with 1 Axes>"
      ]
     },
     "execution_count": 7,
     "metadata": {},
     "output_type": "execute_result"
    }
   ],
   "source": [
    "plot_histogram(result.get_counts(), color='darkturquoise')"
   ]
  },
  {
   "cell_type": "code",
   "execution_count": 8,
   "metadata": {},
   "outputs": [
    {
     "data": {
      "text/html": [
       "<pre style=\"word-wrap: normal;white-space: pre;background: #fff0;line-height: 1.1;font-family: &quot;Courier New&quot;,Courier,monospace\">     ┌─────────────┐┌─┐         \n",
       "q_0: ┤0            ├┤M├─────────\n",
       "     │             │└╥┘┌─┐      \n",
       "q_1: ┤1            ├─╫─┤M├──────\n",
       "     │  circuit-88 │ ║ └╥┘┌─┐   \n",
       "q_2: ┤2            ├─╫──╫─┤M├───\n",
       "     │             │ ║  ║ └╥┘┌─┐\n",
       "q_3: ┤3            ├─╫──╫──╫─┤M├\n",
       "     └─────────────┘ ║  ║  ║ └╥┘\n",
       "c: 4/════════════════╩══╩══╩══╩═\n",
       "                     0  1  2  3 </pre>"
      ],
      "text/plain": [
       "     ┌─────────────┐┌─┐         \n",
       "q_0: ┤0            ├┤M├─────────\n",
       "     │             │└╥┘┌─┐      \n",
       "q_1: ┤1            ├─╫─┤M├──────\n",
       "     │  circuit-88 │ ║ └╥┘┌─┐   \n",
       "q_2: ┤2            ├─╫──╫─┤M├───\n",
       "     │             │ ║  ║ └╥┘┌─┐\n",
       "q_3: ┤3            ├─╫──╫──╫─┤M├\n",
       "     └─────────────┘ ║  ║  ║ └╥┘\n",
       "c: 4/════════════════╩══╩══╩══╩═\n",
       "                     0  1  2  3 "
      ]
     },
     "execution_count": 8,
     "metadata": {},
     "output_type": "execute_result"
    }
   ],
   "source": [
    "qc.draw()"
   ]
  },
  {
   "cell_type": "code",
   "execution_count": 9,
   "metadata": {},
   "outputs": [
    {
     "data": {
      "text/html": [
       "<pre style=\"word-wrap: normal;white-space: pre;background: #fff0;line-height: 1.1;font-family: &quot;Courier New&quot;,Courier,monospace\">     ┌───┐┌──────────┐┌───┐┌─────────────┐┌───┐┌─┐         \n",
       "q_0: ┤ H ├┤0         ├┤ H ├┤0            ├┤ H ├┤M├─────────\n",
       "     ├───┤│          │├───┤│             │├───┤└╥┘┌─┐      \n",
       "q_1: ┤ H ├┤1         ├┤ H ├┤1            ├┤ H ├─╫─┤M├──────\n",
       "     ├───┤│  Unitary │├───┤│  circuit-89 │├───┤ ║ └╥┘┌─┐   \n",
       "q_2: ┤ H ├┤2         ├┤ H ├┤2            ├┤ H ├─╫──╫─┤M├───\n",
       "     ├───┤│          │├───┤│             │├───┤ ║  ║ └╥┘┌─┐\n",
       "q_3: ┤ H ├┤3         ├┤ H ├┤3            ├┤ H ├─╫──╫──╫─┤M├\n",
       "     └───┘└──────────┘└───┘└─────────────┘└───┘ ║  ║  ║ └╥┘\n",
       "c: 4/═══════════════════════════════════════════╩══╩══╩══╩═\n",
       "                                                0  1  2  3 </pre>"
      ],
      "text/plain": [
       "     ┌───┐┌──────────┐┌───┐┌─────────────┐┌───┐┌─┐         \n",
       "q_0: ┤ H ├┤0         ├┤ H ├┤0            ├┤ H ├┤M├─────────\n",
       "     ├───┤│          │├───┤│             │├───┤└╥┘┌─┐      \n",
       "q_1: ┤ H ├┤1         ├┤ H ├┤1            ├┤ H ├─╫─┤M├──────\n",
       "     ├───┤│  Unitary │├───┤│  circuit-89 │├───┤ ║ └╥┘┌─┐   \n",
       "q_2: ┤ H ├┤2         ├┤ H ├┤2            ├┤ H ├─╫──╫─┤M├───\n",
       "     ├───┤│          │├───┤│             │├───┤ ║  ║ └╥┘┌─┐\n",
       "q_3: ┤ H ├┤3         ├┤ H ├┤3            ├┤ H ├─╫──╫──╫─┤M├\n",
       "     └───┘└──────────┘└───┘└─────────────┘└───┘ ║  ║  ║ └╥┘\n",
       "c: 4/═══════════════════════════════════════════╩══╩══╩══╩═\n",
       "                                                0  1  2  3 "
      ]
     },
     "execution_count": 9,
     "metadata": {},
     "output_type": "execute_result"
    }
   ],
   "source": [
    "qc.decompose().draw()"
   ]
  },
  {
   "cell_type": "code",
   "execution_count": 10,
   "metadata": {},
   "outputs": [
    {
     "ename": "TypeError",
     "evalue": "can only concatenate str (not \"NoneType\") to str",
     "output_type": "error",
     "traceback": [
      "\u001b[0;31m---------------------------------------------------------------------------\u001b[0m",
      "\u001b[0;31mTypeError\u001b[0m                                 Traceback (most recent call last)",
      "\u001b[0;32m<ipython-input-10-b5112058d154>\u001b[0m in \u001b[0;36m<module>\u001b[0;34m\u001b[0m\n\u001b[0;32m----> 1\u001b[0;31m \u001b[0mqc\u001b[0m\u001b[0;34m.\u001b[0m\u001b[0mqasm\u001b[0m\u001b[0;34m(\u001b[0m\u001b[0;34m)\u001b[0m\u001b[0;34m\u001b[0m\u001b[0;34m\u001b[0m\u001b[0m\n\u001b[0m",
      "\u001b[0;32m~/opt/anaconda3/envs/qiskit/lib/python3.8/site-packages/qiskit/circuit/quantumcircuit.py\u001b[0m in \u001b[0;36mqasm\u001b[0;34m(self, formatted, filename, encoding)\u001b[0m\n\u001b[1;32m   1730\u001b[0m \u001b[0;34m\u001b[0m\u001b[0m\n\u001b[1;32m   1731\u001b[0m         \u001b[0;31m# insert gate definitions\u001b[0m\u001b[0;34m\u001b[0m\u001b[0;34m\u001b[0m\u001b[0;34m\u001b[0m\u001b[0m\n\u001b[0;32m-> 1732\u001b[0;31m         string_temp = _insert_composite_gate_definition_qasm(\n\u001b[0m\u001b[1;32m   1733\u001b[0m             \u001b[0mstring_temp\u001b[0m\u001b[0;34m,\u001b[0m \u001b[0mexisting_composite_circuits\u001b[0m\u001b[0;34m,\u001b[0m \u001b[0mself\u001b[0m\u001b[0;34m.\u001b[0m\u001b[0mextension_lib\u001b[0m\u001b[0;34m\u001b[0m\u001b[0;34m\u001b[0m\u001b[0m\n\u001b[1;32m   1734\u001b[0m         )\n",
      "\u001b[0;32m~/opt/anaconda3/envs/qiskit/lib/python3.8/site-packages/qiskit/circuit/quantumcircuit.py\u001b[0m in \u001b[0;36m_insert_composite_gate_definition_qasm\u001b[0;34m(string_temp, existing_composite_circuits, extension_lib)\u001b[0m\n\u001b[1;32m   4887\u001b[0m         \u001b[0;32melse\u001b[0m\u001b[0;34m:\u001b[0m\u001b[0;34m\u001b[0m\u001b[0;34m\u001b[0m\u001b[0m\n\u001b[1;32m   4888\u001b[0m             \u001b[0mqasm_string\u001b[0m \u001b[0;34m=\u001b[0m \u001b[0m_get_composite_circuit_qasm_from_instruction\u001b[0m\u001b[0;34m(\u001b[0m\u001b[0minstruction\u001b[0m\u001b[0;34m)\u001b[0m\u001b[0;34m\u001b[0m\u001b[0;34m\u001b[0m\u001b[0m\n\u001b[0;32m-> 4889\u001b[0;31m         \u001b[0mgate_definition_string\u001b[0m \u001b[0;34m+=\u001b[0m \u001b[0;34m\"\\n\"\u001b[0m \u001b[0;34m+\u001b[0m \u001b[0mqasm_string\u001b[0m\u001b[0;34m\u001b[0m\u001b[0;34m\u001b[0m\u001b[0m\n\u001b[0m\u001b[1;32m   4890\u001b[0m \u001b[0;34m\u001b[0m\u001b[0m\n\u001b[1;32m   4891\u001b[0m     \u001b[0mstring_temp\u001b[0m \u001b[0;34m=\u001b[0m \u001b[0mstring_temp\u001b[0m\u001b[0;34m.\u001b[0m\u001b[0mreplace\u001b[0m\u001b[0;34m(\u001b[0m\u001b[0mextension_lib\u001b[0m\u001b[0;34m,\u001b[0m \u001b[0;34mf\"{extension_lib}{gate_definition_string}\"\u001b[0m\u001b[0;34m)\u001b[0m\u001b[0;34m\u001b[0m\u001b[0;34m\u001b[0m\u001b[0m\n",
      "\u001b[0;31mTypeError\u001b[0m: can only concatenate str (not \"NoneType\") to str"
     ]
    }
   ],
   "source": [
    "qc.qasm()"
   ]
  },
  {
   "cell_type": "code",
   "execution_count": null,
   "metadata": {},
   "outputs": [],
   "source": []
  }
 ],
 "metadata": {
  "kernelspec": {
   "display_name": "qiskit",
   "language": "python",
   "name": "python3"
  },
  "language_info": {
   "codemirror_mode": {
    "name": "ipython",
    "version": 3
   },
   "file_extension": ".py",
   "mimetype": "text/x-python",
   "name": "python",
   "nbconvert_exporter": "python",
   "pygments_lexer": "ipython3",
   "version": "3.8.10"
  },
  "orig_nbformat": 4,
  "vscode": {
   "interpreter": {
    "hash": "bf24669ddeaa442077ed150bdef2bee011a3761942402a8b77eecd97dd5d3377"
   }
  }
 },
 "nbformat": 4,
 "nbformat_minor": 2
}
