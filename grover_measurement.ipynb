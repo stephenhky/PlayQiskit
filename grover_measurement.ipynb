{
 "cells": [
  {
   "cell_type": "code",
   "execution_count": 1,
   "metadata": {},
   "outputs": [],
   "source": [
    "import numpy as np\n",
    "from qiskit import QuantumCircuit, Aer, transpile\n",
    "from qiskit.extensions import UnitaryGate\n",
    "from qiskit.quantum_info import Statevector\n",
    "from qiskit.circuit.library import MCXGate"
   ]
  },
  {
   "cell_type": "code",
   "execution_count": 2,
   "metadata": {},
   "outputs": [],
   "source": [
    "def reflection_operator(n):\n",
    "    qc1 = QuantumCircuit(n)\n",
    "    qc1.x(range(n))\n",
    "    qc1.h(0)\n",
    "    qc1.append(MCXGate(n-1), list(range(1, n))+[0])\n",
    "    qc1.h(0)\n",
    "    qc1.x(range(n))\n",
    "    return qc1.to_gate()\n",
    "\n",
    "def grover_gate(n, oracle_gate):\n",
    "    qc = QuantumCircuit(n)\n",
    "    qc.h(range(n))\n",
    "    qc.append(oracle_gate, range(n))\n",
    "    qc.h(range(n))\n",
    "    qc.append(reflection_operator(n), range(n))\n",
    "    qc.h(range(n))\n",
    "    return qc.to_gate()"
   ]
  },
  {
   "cell_type": "code",
   "execution_count": 3,
   "metadata": {},
   "outputs": [],
   "source": [
    "n = 4\n",
    "N = 2**n\n",
    "oracle_vals = np.array([1.]*N)\n",
    "oracle_vals[10] = -1.\n",
    "oracle_gate = UnitaryGate(np.diag(oracle_vals))"
   ]
  },
  {
   "cell_type": "code",
   "execution_count": 4,
   "metadata": {},
   "outputs": [
    {
     "data": {
      "text/plain": [
       "<qiskit.circuit.instructionset.InstructionSet at 0x7fdcea8bab50>"
      ]
     },
     "execution_count": 4,
     "metadata": {},
     "output_type": "execute_result"
    }
   ],
   "source": [
    "qc = QuantumCircuit(n, n)\n",
    "qc.append(grover_gate(n, oracle_gate), range(n))\n",
    "qc.measure(range(n), range(n))"
   ]
  },
  {
   "cell_type": "code",
   "execution_count": 5,
   "metadata": {},
   "outputs": [
    {
     "data": {
      "text/html": [
       "<pre style=\"word-wrap: normal;white-space: pre;background: #fff0;line-height: 1.1;font-family: &quot;Courier New&quot;,Courier,monospace\">     ┌─────────────┐┌─┐         \n",
       "q_0: ┤0            ├┤M├─────────\n",
       "     │             │└╥┘┌─┐      \n",
       "q_1: ┤1            ├─╫─┤M├──────\n",
       "     │  circuit-88 │ ║ └╥┘┌─┐   \n",
       "q_2: ┤2            ├─╫──╫─┤M├───\n",
       "     │             │ ║  ║ └╥┘┌─┐\n",
       "q_3: ┤3            ├─╫──╫──╫─┤M├\n",
       "     └─────────────┘ ║  ║  ║ └╥┘\n",
       "c: 4/════════════════╩══╩══╩══╩═\n",
       "                     0  1  2  3 </pre>"
      ],
      "text/plain": [
       "     ┌─────────────┐┌─┐         \n",
       "q_0: ┤0            ├┤M├─────────\n",
       "     │             │└╥┘┌─┐      \n",
       "q_1: ┤1            ├─╫─┤M├──────\n",
       "     │  circuit-88 │ ║ └╥┘┌─┐   \n",
       "q_2: ┤2            ├─╫──╫─┤M├───\n",
       "     │             │ ║  ║ └╥┘┌─┐\n",
       "q_3: ┤3            ├─╫──╫──╫─┤M├\n",
       "     └─────────────┘ ║  ║  ║ └╥┘\n",
       "c: 4/════════════════╩══╩══╩══╩═\n",
       "                     0  1  2  3 "
      ]
     },
     "execution_count": 5,
     "metadata": {},
     "output_type": "execute_result"
    }
   ],
   "source": [
    "qc.draw()"
   ]
  },
  {
   "cell_type": "code",
   "execution_count": 6,
   "metadata": {},
   "outputs": [],
   "source": [
    "backend = Aer.get_backend('aer_simulator')\n",
    "tqc = transpile(qc, backend)\n",
    "job = backend.run(tqc, shots=1000)\n",
    "result = job.result()\n"
   ]
  },
  {
   "cell_type": "code",
   "execution_count": 7,
   "metadata": {},
   "outputs": [
    {
     "data": {
      "text/plain": [
       "{'1110': 43,\n",
       " '0101': 33,\n",
       " '0010': 32,\n",
       " '0100': 38,\n",
       " '1100': 39,\n",
       " '1000': 40,\n",
       " '0000': 43,\n",
       " '1001': 38,\n",
       " '1011': 41,\n",
       " '0001': 32,\n",
       " '0011': 27,\n",
       " '0111': 32,\n",
       " '1101': 25,\n",
       " '1111': 27,\n",
       " '0110': 26,\n",
       " '1010': 484}"
      ]
     },
     "execution_count": 7,
     "metadata": {},
     "output_type": "execute_result"
    }
   ],
   "source": [
    "result.get_counts()"
   ]
  },
  {
   "cell_type": "code",
   "execution_count": null,
   "metadata": {},
   "outputs": [],
   "source": []
  }
 ],
 "metadata": {
  "kernelspec": {
   "display_name": "qiskit",
   "language": "python",
   "name": "python3"
  },
  "language_info": {
   "codemirror_mode": {
    "name": "ipython",
    "version": 3
   },
   "file_extension": ".py",
   "mimetype": "text/x-python",
   "name": "python",
   "nbconvert_exporter": "python",
   "pygments_lexer": "ipython3",
   "version": "3.8.10"
  },
  "orig_nbformat": 4,
  "vscode": {
   "interpreter": {
    "hash": "bf24669ddeaa442077ed150bdef2bee011a3761942402a8b77eecd97dd5d3377"
   }
  }
 },
 "nbformat": 4,
 "nbformat_minor": 2
}
